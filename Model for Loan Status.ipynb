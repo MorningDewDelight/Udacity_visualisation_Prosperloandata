{
 "cells": [
  {
   "cell_type": "markdown",
   "id": "306dca53",
   "metadata": {},
   "source": [
    "#  Building Model for Predicting Loan status "
   ]
  },
  {
   "cell_type": "markdown",
   "id": "b4b89c7b",
   "metadata": {},
   "source": [
    "## Introduction\n",
    "\n",
    "Prosper was founded in 2005 as the first peer-to-peer lending marketplace in the United States. Since then, Prosper has facilitated more than USD 12 billion in loans to more than 770,000 people.\n",
    "Through Prosper, people can invest in each other in a way that is financially and socially rewarding. Borrowers apply online for a fixed-rate, fixed-term loan between USD 2,000 and USD 40,000. Individuals and institutions can invest in the loans and earn attractive returns. Prosper handles all loan servicing on behalf of the matched borrowers and investors. (source: https://www.prosper.com/about)\n",
    "\n",
    "We have taken loan data from 2005 to 2014.Dataset contains loan information from prosper, having 113937 rows of loan listings with 81 columns. It has features columns like 'LoanStatus',ClosedDate','BorrowerAPR',\n",
    "'BorrowerRate','Occupation', 'CreditScoreRangeLower',EmploymentStatus','DebtToIncomeRatio',IncomeRange',\n",
    "'TotalProsperLoans','MonthlyLoanPayment'.\n",
    "\n",
    "Prosper had problem with increased default rate till 2009, then it came up with prosper rating score(SEC guidelines)to decide on eligibility and interest rate. Since then default rate reduced much. Now we have data available from 2009 -14 with prosper rating to train our machine learning models to make predictions.\n",
    "\n",
    "This project aims to build model to predict loan status with given features as input. Since our target data is qualitative and has multiple categories, We can use multi class classification models like Decision tree, SVM and KNN classifiers.\n",
    "\n",
    "\n",
    "\n",
    "#### Data Dictionary:\n",
    "\n",
    "https://docs.google.com/spreadsheets/d/1k60B40cr0YAR51X8dmqLGyYBqKzN80Vm2Pnxx3GtHcw/edit?usp=sharing\n",
    "\n",
    "\n"
   ]
  },
  {
   "cell_type": "markdown",
   "id": "b1ad7136",
   "metadata": {},
   "source": [
    "### Importing Modules"
   ]
  },
  {
   "cell_type": "code",
   "execution_count": 114,
   "id": "922037a2",
   "metadata": {},
   "outputs": [],
   "source": [
    "# Importing required libraries\n",
    "import pandas as pd\n",
    "import numpy as np\n",
    "import matplotlib.pyplot as plt\n",
    "import seaborn as sns\n",
    "\n",
    "# Data preparation\n",
    "from sklearn.model_selection import train_test_split,RandomizedSearchCV\n",
    "from sklearn.pipeline import make_pipeline\n",
    "from sklearn.preprocessing import StandardScaler\n",
    "\n",
    "# Models from Sklearn\n",
    "from sklearn.svm import SVC\n",
    "from sklearn.tree import DecisionTreeClassifier \n",
    "from sklearn.neighbors import KNeighborsClassifier\n",
    "from sklearn.naive_bayes import GaussianNB \n",
    "\n",
    "# Model evaluation \n",
    "from sklearn.metrics import precision_score, recall_score, f1_score\n",
    "from sklearn.metrics import classification_report, confusion_matrix\n",
    "from sklearn.metrics import mean_squared_log_error\n",
    "from mlxtend.plotting import plot_confusion_matrix\n"
   ]
  },
  {
   "cell_type": "markdown",
   "id": "ed9a47d8",
   "metadata": {},
   "source": [
    "### Loading Data"
   ]
  },
  {
   "cell_type": "code",
   "execution_count": 65,
   "id": "d8f0a3d9",
   "metadata": {},
   "outputs": [],
   "source": [
    "# Setting row & column display limits\n",
    "pd.set_option('display.max_columns',85)\n",
    "pd.set_option('display.max_rows',50)"
   ]
  },
  {
   "cell_type": "code",
   "execution_count": 66,
   "id": "d0bebbfc",
   "metadata": {},
   "outputs": [
    {
     "data": {
      "text/html": [
       "<div>\n",
       "<style scoped>\n",
       "    .dataframe tbody tr th:only-of-type {\n",
       "        vertical-align: middle;\n",
       "    }\n",
       "\n",
       "    .dataframe tbody tr th {\n",
       "        vertical-align: top;\n",
       "    }\n",
       "\n",
       "    .dataframe thead th {\n",
       "        text-align: right;\n",
       "    }\n",
       "</style>\n",
       "<table border=\"1\" class=\"dataframe\">\n",
       "  <thead>\n",
       "    <tr style=\"text-align: right;\">\n",
       "      <th></th>\n",
       "      <th>ListingKey</th>\n",
       "      <th>ListingNumber</th>\n",
       "      <th>ListingCreationDate</th>\n",
       "      <th>CreditGrade</th>\n",
       "      <th>Term</th>\n",
       "      <th>LoanStatus</th>\n",
       "      <th>ClosedDate</th>\n",
       "      <th>BorrowerAPR</th>\n",
       "      <th>BorrowerRate</th>\n",
       "      <th>LenderYield</th>\n",
       "      <th>EstimatedEffectiveYield</th>\n",
       "      <th>EstimatedLoss</th>\n",
       "      <th>EstimatedReturn</th>\n",
       "      <th>ProsperRating (numeric)</th>\n",
       "      <th>ProsperRating (Alpha)</th>\n",
       "      <th>ProsperScore</th>\n",
       "      <th>ListingCategory (numeric)</th>\n",
       "      <th>BorrowerState</th>\n",
       "      <th>Occupation</th>\n",
       "      <th>EmploymentStatus</th>\n",
       "      <th>EmploymentStatusDuration</th>\n",
       "      <th>IsBorrowerHomeowner</th>\n",
       "      <th>CurrentlyInGroup</th>\n",
       "      <th>GroupKey</th>\n",
       "      <th>DateCreditPulled</th>\n",
       "      <th>CreditScoreRangeLower</th>\n",
       "      <th>CreditScoreRangeUpper</th>\n",
       "      <th>FirstRecordedCreditLine</th>\n",
       "      <th>CurrentCreditLines</th>\n",
       "      <th>OpenCreditLines</th>\n",
       "      <th>TotalCreditLinespast7years</th>\n",
       "      <th>OpenRevolvingAccounts</th>\n",
       "      <th>OpenRevolvingMonthlyPayment</th>\n",
       "      <th>InquiriesLast6Months</th>\n",
       "      <th>TotalInquiries</th>\n",
       "      <th>CurrentDelinquencies</th>\n",
       "      <th>AmountDelinquent</th>\n",
       "      <th>DelinquenciesLast7Years</th>\n",
       "      <th>PublicRecordsLast10Years</th>\n",
       "      <th>PublicRecordsLast12Months</th>\n",
       "      <th>RevolvingCreditBalance</th>\n",
       "      <th>BankcardUtilization</th>\n",
       "      <th>AvailableBankcardCredit</th>\n",
       "      <th>TotalTrades</th>\n",
       "      <th>TradesNeverDelinquent (percentage)</th>\n",
       "      <th>TradesOpenedLast6Months</th>\n",
       "      <th>DebtToIncomeRatio</th>\n",
       "      <th>IncomeRange</th>\n",
       "      <th>IncomeVerifiable</th>\n",
       "      <th>StatedMonthlyIncome</th>\n",
       "      <th>LoanKey</th>\n",
       "      <th>TotalProsperLoans</th>\n",
       "      <th>TotalProsperPaymentsBilled</th>\n",
       "      <th>OnTimeProsperPayments</th>\n",
       "      <th>ProsperPaymentsLessThanOneMonthLate</th>\n",
       "      <th>ProsperPaymentsOneMonthPlusLate</th>\n",
       "      <th>ProsperPrincipalBorrowed</th>\n",
       "      <th>ProsperPrincipalOutstanding</th>\n",
       "      <th>ScorexChangeAtTimeOfListing</th>\n",
       "      <th>LoanCurrentDaysDelinquent</th>\n",
       "      <th>LoanFirstDefaultedCycleNumber</th>\n",
       "      <th>LoanMonthsSinceOrigination</th>\n",
       "      <th>LoanNumber</th>\n",
       "      <th>LoanOriginalAmount</th>\n",
       "      <th>LoanOriginationDate</th>\n",
       "      <th>LoanOriginationQuarter</th>\n",
       "      <th>MemberKey</th>\n",
       "      <th>MonthlyLoanPayment</th>\n",
       "      <th>LP_CustomerPayments</th>\n",
       "      <th>LP_CustomerPrincipalPayments</th>\n",
       "      <th>LP_InterestandFees</th>\n",
       "      <th>LP_ServiceFees</th>\n",
       "      <th>LP_CollectionFees</th>\n",
       "      <th>LP_GrossPrincipalLoss</th>\n",
       "      <th>LP_NetPrincipalLoss</th>\n",
       "      <th>LP_NonPrincipalRecoverypayments</th>\n",
       "      <th>PercentFunded</th>\n",
       "      <th>Recommendations</th>\n",
       "      <th>InvestmentFromFriendsCount</th>\n",
       "      <th>InvestmentFromFriendsAmount</th>\n",
       "      <th>Investors</th>\n",
       "    </tr>\n",
       "  </thead>\n",
       "  <tbody>\n",
       "    <tr>\n",
       "      <th>0</th>\n",
       "      <td>1021339766868145413AB3B</td>\n",
       "      <td>193129</td>\n",
       "      <td>2007-08-26 19:09:29.263000000</td>\n",
       "      <td>C</td>\n",
       "      <td>36</td>\n",
       "      <td>Completed</td>\n",
       "      <td>2009-08-14 00:00:00</td>\n",
       "      <td>0.16516</td>\n",
       "      <td>0.1580</td>\n",
       "      <td>0.1380</td>\n",
       "      <td>NaN</td>\n",
       "      <td>NaN</td>\n",
       "      <td>NaN</td>\n",
       "      <td>NaN</td>\n",
       "      <td>NaN</td>\n",
       "      <td>NaN</td>\n",
       "      <td>0</td>\n",
       "      <td>CO</td>\n",
       "      <td>Other</td>\n",
       "      <td>Self-employed</td>\n",
       "      <td>2.0</td>\n",
       "      <td>True</td>\n",
       "      <td>True</td>\n",
       "      <td>NaN</td>\n",
       "      <td>2007-08-26 18:41:46.780000000</td>\n",
       "      <td>640.0</td>\n",
       "      <td>659.0</td>\n",
       "      <td>2001-10-11 00:00:00</td>\n",
       "      <td>5.0</td>\n",
       "      <td>4.0</td>\n",
       "      <td>12.0</td>\n",
       "      <td>1</td>\n",
       "      <td>24.0</td>\n",
       "      <td>3.0</td>\n",
       "      <td>3.0</td>\n",
       "      <td>2.0</td>\n",
       "      <td>472.0</td>\n",
       "      <td>4.0</td>\n",
       "      <td>0.0</td>\n",
       "      <td>0.0</td>\n",
       "      <td>0.0</td>\n",
       "      <td>0.00</td>\n",
       "      <td>1500.0</td>\n",
       "      <td>11.0</td>\n",
       "      <td>0.81</td>\n",
       "      <td>0.0</td>\n",
       "      <td>0.17</td>\n",
       "      <td>$25,000-49,999</td>\n",
       "      <td>True</td>\n",
       "      <td>3083.333333</td>\n",
       "      <td>E33A3400205839220442E84</td>\n",
       "      <td>NaN</td>\n",
       "      <td>NaN</td>\n",
       "      <td>NaN</td>\n",
       "      <td>NaN</td>\n",
       "      <td>NaN</td>\n",
       "      <td>NaN</td>\n",
       "      <td>NaN</td>\n",
       "      <td>NaN</td>\n",
       "      <td>0</td>\n",
       "      <td>NaN</td>\n",
       "      <td>78</td>\n",
       "      <td>19141</td>\n",
       "      <td>9425</td>\n",
       "      <td>2007-09-12 00:00:00</td>\n",
       "      <td>Q3 2007</td>\n",
       "      <td>1F3E3376408759268057EDA</td>\n",
       "      <td>330.43</td>\n",
       "      <td>11396.14</td>\n",
       "      <td>9425.00</td>\n",
       "      <td>1971.14</td>\n",
       "      <td>-133.18</td>\n",
       "      <td>0.0</td>\n",
       "      <td>0.0</td>\n",
       "      <td>0.0</td>\n",
       "      <td>0.0</td>\n",
       "      <td>1.0</td>\n",
       "      <td>0</td>\n",
       "      <td>0</td>\n",
       "      <td>0.0</td>\n",
       "      <td>258</td>\n",
       "    </tr>\n",
       "    <tr>\n",
       "      <th>1</th>\n",
       "      <td>10273602499503308B223C1</td>\n",
       "      <td>1209647</td>\n",
       "      <td>2014-02-27 08:28:07.900000000</td>\n",
       "      <td>NaN</td>\n",
       "      <td>36</td>\n",
       "      <td>Current</td>\n",
       "      <td>NaN</td>\n",
       "      <td>0.12016</td>\n",
       "      <td>0.0920</td>\n",
       "      <td>0.0820</td>\n",
       "      <td>0.07960</td>\n",
       "      <td>0.0249</td>\n",
       "      <td>0.05470</td>\n",
       "      <td>6.0</td>\n",
       "      <td>A</td>\n",
       "      <td>7.0</td>\n",
       "      <td>2</td>\n",
       "      <td>CO</td>\n",
       "      <td>Professional</td>\n",
       "      <td>Employed</td>\n",
       "      <td>44.0</td>\n",
       "      <td>False</td>\n",
       "      <td>False</td>\n",
       "      <td>NaN</td>\n",
       "      <td>2014-02-27 08:28:14</td>\n",
       "      <td>680.0</td>\n",
       "      <td>699.0</td>\n",
       "      <td>1996-03-18 00:00:00</td>\n",
       "      <td>14.0</td>\n",
       "      <td>14.0</td>\n",
       "      <td>29.0</td>\n",
       "      <td>13</td>\n",
       "      <td>389.0</td>\n",
       "      <td>3.0</td>\n",
       "      <td>5.0</td>\n",
       "      <td>0.0</td>\n",
       "      <td>0.0</td>\n",
       "      <td>0.0</td>\n",
       "      <td>1.0</td>\n",
       "      <td>0.0</td>\n",
       "      <td>3989.0</td>\n",
       "      <td>0.21</td>\n",
       "      <td>10266.0</td>\n",
       "      <td>29.0</td>\n",
       "      <td>1.00</td>\n",
       "      <td>2.0</td>\n",
       "      <td>0.18</td>\n",
       "      <td>$50,000-74,999</td>\n",
       "      <td>True</td>\n",
       "      <td>6125.000000</td>\n",
       "      <td>9E3B37071505919926B1D82</td>\n",
       "      <td>NaN</td>\n",
       "      <td>NaN</td>\n",
       "      <td>NaN</td>\n",
       "      <td>NaN</td>\n",
       "      <td>NaN</td>\n",
       "      <td>NaN</td>\n",
       "      <td>NaN</td>\n",
       "      <td>NaN</td>\n",
       "      <td>0</td>\n",
       "      <td>NaN</td>\n",
       "      <td>0</td>\n",
       "      <td>134815</td>\n",
       "      <td>10000</td>\n",
       "      <td>2014-03-03 00:00:00</td>\n",
       "      <td>Q1 2014</td>\n",
       "      <td>1D13370546739025387B2F4</td>\n",
       "      <td>318.93</td>\n",
       "      <td>0.00</td>\n",
       "      <td>0.00</td>\n",
       "      <td>0.00</td>\n",
       "      <td>0.00</td>\n",
       "      <td>0.0</td>\n",
       "      <td>0.0</td>\n",
       "      <td>0.0</td>\n",
       "      <td>0.0</td>\n",
       "      <td>1.0</td>\n",
       "      <td>0</td>\n",
       "      <td>0</td>\n",
       "      <td>0.0</td>\n",
       "      <td>1</td>\n",
       "    </tr>\n",
       "    <tr>\n",
       "      <th>2</th>\n",
       "      <td>0EE9337825851032864889A</td>\n",
       "      <td>81716</td>\n",
       "      <td>2007-01-05 15:00:47.090000000</td>\n",
       "      <td>HR</td>\n",
       "      <td>36</td>\n",
       "      <td>Completed</td>\n",
       "      <td>2009-12-17 00:00:00</td>\n",
       "      <td>0.28269</td>\n",
       "      <td>0.2750</td>\n",
       "      <td>0.2400</td>\n",
       "      <td>NaN</td>\n",
       "      <td>NaN</td>\n",
       "      <td>NaN</td>\n",
       "      <td>NaN</td>\n",
       "      <td>NaN</td>\n",
       "      <td>NaN</td>\n",
       "      <td>0</td>\n",
       "      <td>GA</td>\n",
       "      <td>Other</td>\n",
       "      <td>Not available</td>\n",
       "      <td>NaN</td>\n",
       "      <td>False</td>\n",
       "      <td>True</td>\n",
       "      <td>783C3371218786870A73D20</td>\n",
       "      <td>2007-01-02 14:09:10.060000000</td>\n",
       "      <td>480.0</td>\n",
       "      <td>499.0</td>\n",
       "      <td>2002-07-27 00:00:00</td>\n",
       "      <td>NaN</td>\n",
       "      <td>NaN</td>\n",
       "      <td>3.0</td>\n",
       "      <td>0</td>\n",
       "      <td>0.0</td>\n",
       "      <td>0.0</td>\n",
       "      <td>1.0</td>\n",
       "      <td>1.0</td>\n",
       "      <td>NaN</td>\n",
       "      <td>0.0</td>\n",
       "      <td>0.0</td>\n",
       "      <td>NaN</td>\n",
       "      <td>NaN</td>\n",
       "      <td>NaN</td>\n",
       "      <td>NaN</td>\n",
       "      <td>NaN</td>\n",
       "      <td>NaN</td>\n",
       "      <td>NaN</td>\n",
       "      <td>0.06</td>\n",
       "      <td>Not displayed</td>\n",
       "      <td>True</td>\n",
       "      <td>2083.333333</td>\n",
       "      <td>6954337960046817851BCB2</td>\n",
       "      <td>NaN</td>\n",
       "      <td>NaN</td>\n",
       "      <td>NaN</td>\n",
       "      <td>NaN</td>\n",
       "      <td>NaN</td>\n",
       "      <td>NaN</td>\n",
       "      <td>NaN</td>\n",
       "      <td>NaN</td>\n",
       "      <td>0</td>\n",
       "      <td>NaN</td>\n",
       "      <td>86</td>\n",
       "      <td>6466</td>\n",
       "      <td>3001</td>\n",
       "      <td>2007-01-17 00:00:00</td>\n",
       "      <td>Q1 2007</td>\n",
       "      <td>5F7033715035555618FA612</td>\n",
       "      <td>123.32</td>\n",
       "      <td>4186.63</td>\n",
       "      <td>3001.00</td>\n",
       "      <td>1185.63</td>\n",
       "      <td>-24.20</td>\n",
       "      <td>0.0</td>\n",
       "      <td>0.0</td>\n",
       "      <td>0.0</td>\n",
       "      <td>0.0</td>\n",
       "      <td>1.0</td>\n",
       "      <td>0</td>\n",
       "      <td>0</td>\n",
       "      <td>0.0</td>\n",
       "      <td>41</td>\n",
       "    </tr>\n",
       "    <tr>\n",
       "      <th>3</th>\n",
       "      <td>0EF5356002482715299901A</td>\n",
       "      <td>658116</td>\n",
       "      <td>2012-10-22 11:02:35.010000000</td>\n",
       "      <td>NaN</td>\n",
       "      <td>36</td>\n",
       "      <td>Current</td>\n",
       "      <td>NaN</td>\n",
       "      <td>0.12528</td>\n",
       "      <td>0.0974</td>\n",
       "      <td>0.0874</td>\n",
       "      <td>0.08490</td>\n",
       "      <td>0.0249</td>\n",
       "      <td>0.06000</td>\n",
       "      <td>6.0</td>\n",
       "      <td>A</td>\n",
       "      <td>9.0</td>\n",
       "      <td>16</td>\n",
       "      <td>GA</td>\n",
       "      <td>Skilled Labor</td>\n",
       "      <td>Employed</td>\n",
       "      <td>113.0</td>\n",
       "      <td>True</td>\n",
       "      <td>False</td>\n",
       "      <td>NaN</td>\n",
       "      <td>2012-10-22 11:02:32</td>\n",
       "      <td>800.0</td>\n",
       "      <td>819.0</td>\n",
       "      <td>1983-02-28 00:00:00</td>\n",
       "      <td>5.0</td>\n",
       "      <td>5.0</td>\n",
       "      <td>29.0</td>\n",
       "      <td>7</td>\n",
       "      <td>115.0</td>\n",
       "      <td>0.0</td>\n",
       "      <td>1.0</td>\n",
       "      <td>4.0</td>\n",
       "      <td>10056.0</td>\n",
       "      <td>14.0</td>\n",
       "      <td>0.0</td>\n",
       "      <td>0.0</td>\n",
       "      <td>1444.0</td>\n",
       "      <td>0.04</td>\n",
       "      <td>30754.0</td>\n",
       "      <td>26.0</td>\n",
       "      <td>0.76</td>\n",
       "      <td>0.0</td>\n",
       "      <td>0.15</td>\n",
       "      <td>$25,000-49,999</td>\n",
       "      <td>True</td>\n",
       "      <td>2875.000000</td>\n",
       "      <td>A0393664465886295619C51</td>\n",
       "      <td>NaN</td>\n",
       "      <td>NaN</td>\n",
       "      <td>NaN</td>\n",
       "      <td>NaN</td>\n",
       "      <td>NaN</td>\n",
       "      <td>NaN</td>\n",
       "      <td>NaN</td>\n",
       "      <td>NaN</td>\n",
       "      <td>0</td>\n",
       "      <td>NaN</td>\n",
       "      <td>16</td>\n",
       "      <td>77296</td>\n",
       "      <td>10000</td>\n",
       "      <td>2012-11-01 00:00:00</td>\n",
       "      <td>Q4 2012</td>\n",
       "      <td>9ADE356069835475068C6D2</td>\n",
       "      <td>321.45</td>\n",
       "      <td>5143.20</td>\n",
       "      <td>4091.09</td>\n",
       "      <td>1052.11</td>\n",
       "      <td>-108.01</td>\n",
       "      <td>0.0</td>\n",
       "      <td>0.0</td>\n",
       "      <td>0.0</td>\n",
       "      <td>0.0</td>\n",
       "      <td>1.0</td>\n",
       "      <td>0</td>\n",
       "      <td>0</td>\n",
       "      <td>0.0</td>\n",
       "      <td>158</td>\n",
       "    </tr>\n",
       "    <tr>\n",
       "      <th>4</th>\n",
       "      <td>0F023589499656230C5E3E2</td>\n",
       "      <td>909464</td>\n",
       "      <td>2013-09-14 18:38:39.097000000</td>\n",
       "      <td>NaN</td>\n",
       "      <td>36</td>\n",
       "      <td>Current</td>\n",
       "      <td>NaN</td>\n",
       "      <td>0.24614</td>\n",
       "      <td>0.2085</td>\n",
       "      <td>0.1985</td>\n",
       "      <td>0.18316</td>\n",
       "      <td>0.0925</td>\n",
       "      <td>0.09066</td>\n",
       "      <td>3.0</td>\n",
       "      <td>D</td>\n",
       "      <td>4.0</td>\n",
       "      <td>2</td>\n",
       "      <td>MN</td>\n",
       "      <td>Executive</td>\n",
       "      <td>Employed</td>\n",
       "      <td>44.0</td>\n",
       "      <td>True</td>\n",
       "      <td>False</td>\n",
       "      <td>NaN</td>\n",
       "      <td>2013-09-14 18:38:44</td>\n",
       "      <td>680.0</td>\n",
       "      <td>699.0</td>\n",
       "      <td>2004-02-20 00:00:00</td>\n",
       "      <td>19.0</td>\n",
       "      <td>19.0</td>\n",
       "      <td>49.0</td>\n",
       "      <td>6</td>\n",
       "      <td>220.0</td>\n",
       "      <td>1.0</td>\n",
       "      <td>9.0</td>\n",
       "      <td>0.0</td>\n",
       "      <td>0.0</td>\n",
       "      <td>0.0</td>\n",
       "      <td>0.0</td>\n",
       "      <td>0.0</td>\n",
       "      <td>6193.0</td>\n",
       "      <td>0.81</td>\n",
       "      <td>695.0</td>\n",
       "      <td>39.0</td>\n",
       "      <td>0.95</td>\n",
       "      <td>2.0</td>\n",
       "      <td>0.26</td>\n",
       "      <td>$100,000+</td>\n",
       "      <td>True</td>\n",
       "      <td>9583.333333</td>\n",
       "      <td>A180369302188889200689E</td>\n",
       "      <td>1.0</td>\n",
       "      <td>11.0</td>\n",
       "      <td>11.0</td>\n",
       "      <td>0.0</td>\n",
       "      <td>0.0</td>\n",
       "      <td>11000.0</td>\n",
       "      <td>9947.9</td>\n",
       "      <td>NaN</td>\n",
       "      <td>0</td>\n",
       "      <td>NaN</td>\n",
       "      <td>6</td>\n",
       "      <td>102670</td>\n",
       "      <td>15000</td>\n",
       "      <td>2013-09-20 00:00:00</td>\n",
       "      <td>Q3 2013</td>\n",
       "      <td>36CE356043264555721F06C</td>\n",
       "      <td>563.97</td>\n",
       "      <td>2819.85</td>\n",
       "      <td>1563.22</td>\n",
       "      <td>1256.63</td>\n",
       "      <td>-60.27</td>\n",
       "      <td>0.0</td>\n",
       "      <td>0.0</td>\n",
       "      <td>0.0</td>\n",
       "      <td>0.0</td>\n",
       "      <td>1.0</td>\n",
       "      <td>0</td>\n",
       "      <td>0</td>\n",
       "      <td>0.0</td>\n",
       "      <td>20</td>\n",
       "    </tr>\n",
       "  </tbody>\n",
       "</table>\n",
       "</div>"
      ],
      "text/plain": [
       "                ListingKey  ListingNumber            ListingCreationDate  \\\n",
       "0  1021339766868145413AB3B         193129  2007-08-26 19:09:29.263000000   \n",
       "1  10273602499503308B223C1        1209647  2014-02-27 08:28:07.900000000   \n",
       "2  0EE9337825851032864889A          81716  2007-01-05 15:00:47.090000000   \n",
       "3  0EF5356002482715299901A         658116  2012-10-22 11:02:35.010000000   \n",
       "4  0F023589499656230C5E3E2         909464  2013-09-14 18:38:39.097000000   \n",
       "\n",
       "  CreditGrade  Term LoanStatus           ClosedDate  BorrowerAPR  \\\n",
       "0           C    36  Completed  2009-08-14 00:00:00      0.16516   \n",
       "1         NaN    36    Current                  NaN      0.12016   \n",
       "2          HR    36  Completed  2009-12-17 00:00:00      0.28269   \n",
       "3         NaN    36    Current                  NaN      0.12528   \n",
       "4         NaN    36    Current                  NaN      0.24614   \n",
       "\n",
       "   BorrowerRate  LenderYield  EstimatedEffectiveYield  EstimatedLoss  \\\n",
       "0        0.1580       0.1380                      NaN            NaN   \n",
       "1        0.0920       0.0820                  0.07960         0.0249   \n",
       "2        0.2750       0.2400                      NaN            NaN   \n",
       "3        0.0974       0.0874                  0.08490         0.0249   \n",
       "4        0.2085       0.1985                  0.18316         0.0925   \n",
       "\n",
       "   EstimatedReturn  ProsperRating (numeric) ProsperRating (Alpha)  \\\n",
       "0              NaN                      NaN                   NaN   \n",
       "1          0.05470                      6.0                     A   \n",
       "2              NaN                      NaN                   NaN   \n",
       "3          0.06000                      6.0                     A   \n",
       "4          0.09066                      3.0                     D   \n",
       "\n",
       "   ProsperScore  ListingCategory (numeric) BorrowerState     Occupation  \\\n",
       "0           NaN                          0            CO          Other   \n",
       "1           7.0                          2            CO   Professional   \n",
       "2           NaN                          0            GA          Other   \n",
       "3           9.0                         16            GA  Skilled Labor   \n",
       "4           4.0                          2            MN      Executive   \n",
       "\n",
       "  EmploymentStatus  EmploymentStatusDuration  IsBorrowerHomeowner  \\\n",
       "0    Self-employed                       2.0                 True   \n",
       "1         Employed                      44.0                False   \n",
       "2    Not available                       NaN                False   \n",
       "3         Employed                     113.0                 True   \n",
       "4         Employed                      44.0                 True   \n",
       "\n",
       "   CurrentlyInGroup                 GroupKey               DateCreditPulled  \\\n",
       "0              True                      NaN  2007-08-26 18:41:46.780000000   \n",
       "1             False                      NaN            2014-02-27 08:28:14   \n",
       "2              True  783C3371218786870A73D20  2007-01-02 14:09:10.060000000   \n",
       "3             False                      NaN            2012-10-22 11:02:32   \n",
       "4             False                      NaN            2013-09-14 18:38:44   \n",
       "\n",
       "   CreditScoreRangeLower  CreditScoreRangeUpper FirstRecordedCreditLine  \\\n",
       "0                  640.0                  659.0     2001-10-11 00:00:00   \n",
       "1                  680.0                  699.0     1996-03-18 00:00:00   \n",
       "2                  480.0                  499.0     2002-07-27 00:00:00   \n",
       "3                  800.0                  819.0     1983-02-28 00:00:00   \n",
       "4                  680.0                  699.0     2004-02-20 00:00:00   \n",
       "\n",
       "   CurrentCreditLines  OpenCreditLines  TotalCreditLinespast7years  \\\n",
       "0                 5.0              4.0                        12.0   \n",
       "1                14.0             14.0                        29.0   \n",
       "2                 NaN              NaN                         3.0   \n",
       "3                 5.0              5.0                        29.0   \n",
       "4                19.0             19.0                        49.0   \n",
       "\n",
       "   OpenRevolvingAccounts  OpenRevolvingMonthlyPayment  InquiriesLast6Months  \\\n",
       "0                      1                         24.0                   3.0   \n",
       "1                     13                        389.0                   3.0   \n",
       "2                      0                          0.0                   0.0   \n",
       "3                      7                        115.0                   0.0   \n",
       "4                      6                        220.0                   1.0   \n",
       "\n",
       "   TotalInquiries  CurrentDelinquencies  AmountDelinquent  \\\n",
       "0             3.0                   2.0             472.0   \n",
       "1             5.0                   0.0               0.0   \n",
       "2             1.0                   1.0               NaN   \n",
       "3             1.0                   4.0           10056.0   \n",
       "4             9.0                   0.0               0.0   \n",
       "\n",
       "   DelinquenciesLast7Years  PublicRecordsLast10Years  \\\n",
       "0                      4.0                       0.0   \n",
       "1                      0.0                       1.0   \n",
       "2                      0.0                       0.0   \n",
       "3                     14.0                       0.0   \n",
       "4                      0.0                       0.0   \n",
       "\n",
       "   PublicRecordsLast12Months  RevolvingCreditBalance  BankcardUtilization  \\\n",
       "0                        0.0                     0.0                 0.00   \n",
       "1                        0.0                  3989.0                 0.21   \n",
       "2                        NaN                     NaN                  NaN   \n",
       "3                        0.0                  1444.0                 0.04   \n",
       "4                        0.0                  6193.0                 0.81   \n",
       "\n",
       "   AvailableBankcardCredit  TotalTrades  TradesNeverDelinquent (percentage)  \\\n",
       "0                   1500.0         11.0                                0.81   \n",
       "1                  10266.0         29.0                                1.00   \n",
       "2                      NaN          NaN                                 NaN   \n",
       "3                  30754.0         26.0                                0.76   \n",
       "4                    695.0         39.0                                0.95   \n",
       "\n",
       "   TradesOpenedLast6Months  DebtToIncomeRatio     IncomeRange  \\\n",
       "0                      0.0               0.17  $25,000-49,999   \n",
       "1                      2.0               0.18  $50,000-74,999   \n",
       "2                      NaN               0.06   Not displayed   \n",
       "3                      0.0               0.15  $25,000-49,999   \n",
       "4                      2.0               0.26       $100,000+   \n",
       "\n",
       "   IncomeVerifiable  StatedMonthlyIncome                  LoanKey  \\\n",
       "0              True          3083.333333  E33A3400205839220442E84   \n",
       "1              True          6125.000000  9E3B37071505919926B1D82   \n",
       "2              True          2083.333333  6954337960046817851BCB2   \n",
       "3              True          2875.000000  A0393664465886295619C51   \n",
       "4              True          9583.333333  A180369302188889200689E   \n",
       "\n",
       "   TotalProsperLoans  TotalProsperPaymentsBilled  OnTimeProsperPayments  \\\n",
       "0                NaN                         NaN                    NaN   \n",
       "1                NaN                         NaN                    NaN   \n",
       "2                NaN                         NaN                    NaN   \n",
       "3                NaN                         NaN                    NaN   \n",
       "4                1.0                        11.0                   11.0   \n",
       "\n",
       "   ProsperPaymentsLessThanOneMonthLate  ProsperPaymentsOneMonthPlusLate  \\\n",
       "0                                  NaN                              NaN   \n",
       "1                                  NaN                              NaN   \n",
       "2                                  NaN                              NaN   \n",
       "3                                  NaN                              NaN   \n",
       "4                                  0.0                              0.0   \n",
       "\n",
       "   ProsperPrincipalBorrowed  ProsperPrincipalOutstanding  \\\n",
       "0                       NaN                          NaN   \n",
       "1                       NaN                          NaN   \n",
       "2                       NaN                          NaN   \n",
       "3                       NaN                          NaN   \n",
       "4                   11000.0                       9947.9   \n",
       "\n",
       "   ScorexChangeAtTimeOfListing  LoanCurrentDaysDelinquent  \\\n",
       "0                          NaN                          0   \n",
       "1                          NaN                          0   \n",
       "2                          NaN                          0   \n",
       "3                          NaN                          0   \n",
       "4                          NaN                          0   \n",
       "\n",
       "   LoanFirstDefaultedCycleNumber  LoanMonthsSinceOrigination  LoanNumber  \\\n",
       "0                            NaN                          78       19141   \n",
       "1                            NaN                           0      134815   \n",
       "2                            NaN                          86        6466   \n",
       "3                            NaN                          16       77296   \n",
       "4                            NaN                           6      102670   \n",
       "\n",
       "   LoanOriginalAmount  LoanOriginationDate LoanOriginationQuarter  \\\n",
       "0                9425  2007-09-12 00:00:00                Q3 2007   \n",
       "1               10000  2014-03-03 00:00:00                Q1 2014   \n",
       "2                3001  2007-01-17 00:00:00                Q1 2007   \n",
       "3               10000  2012-11-01 00:00:00                Q4 2012   \n",
       "4               15000  2013-09-20 00:00:00                Q3 2013   \n",
       "\n",
       "                 MemberKey  MonthlyLoanPayment  LP_CustomerPayments  \\\n",
       "0  1F3E3376408759268057EDA              330.43             11396.14   \n",
       "1  1D13370546739025387B2F4              318.93                 0.00   \n",
       "2  5F7033715035555618FA612              123.32              4186.63   \n",
       "3  9ADE356069835475068C6D2              321.45              5143.20   \n",
       "4  36CE356043264555721F06C              563.97              2819.85   \n",
       "\n",
       "   LP_CustomerPrincipalPayments  LP_InterestandFees  LP_ServiceFees  \\\n",
       "0                       9425.00             1971.14         -133.18   \n",
       "1                          0.00                0.00            0.00   \n",
       "2                       3001.00             1185.63          -24.20   \n",
       "3                       4091.09             1052.11         -108.01   \n",
       "4                       1563.22             1256.63          -60.27   \n",
       "\n",
       "   LP_CollectionFees  LP_GrossPrincipalLoss  LP_NetPrincipalLoss  \\\n",
       "0                0.0                    0.0                  0.0   \n",
       "1                0.0                    0.0                  0.0   \n",
       "2                0.0                    0.0                  0.0   \n",
       "3                0.0                    0.0                  0.0   \n",
       "4                0.0                    0.0                  0.0   \n",
       "\n",
       "   LP_NonPrincipalRecoverypayments  PercentFunded  Recommendations  \\\n",
       "0                              0.0            1.0                0   \n",
       "1                              0.0            1.0                0   \n",
       "2                              0.0            1.0                0   \n",
       "3                              0.0            1.0                0   \n",
       "4                              0.0            1.0                0   \n",
       "\n",
       "   InvestmentFromFriendsCount  InvestmentFromFriendsAmount  Investors  \n",
       "0                           0                          0.0        258  \n",
       "1                           0                          0.0          1  \n",
       "2                           0                          0.0         41  \n",
       "3                           0                          0.0        158  \n",
       "4                           0                          0.0         20  "
      ]
     },
     "execution_count": 66,
     "metadata": {},
     "output_type": "execute_result"
    }
   ],
   "source": [
    "# Loading dataset\n",
    "df = pd.read_csv('prosperLoanData.csv')\n",
    "df.head()"
   ]
  },
  {
   "cell_type": "code",
   "execution_count": 67,
   "id": "c4705330",
   "metadata": {},
   "outputs": [
    {
     "data": {
      "text/html": [
       "<div>\n",
       "<style scoped>\n",
       "    .dataframe tbody tr th:only-of-type {\n",
       "        vertical-align: middle;\n",
       "    }\n",
       "\n",
       "    .dataframe tbody tr th {\n",
       "        vertical-align: top;\n",
       "    }\n",
       "\n",
       "    .dataframe thead th {\n",
       "        text-align: right;\n",
       "    }\n",
       "</style>\n",
       "<table border=\"1\" class=\"dataframe\">\n",
       "  <thead>\n",
       "    <tr style=\"text-align: right;\">\n",
       "      <th></th>\n",
       "      <th>0</th>\n",
       "    </tr>\n",
       "  </thead>\n",
       "  <tbody>\n",
       "    <tr>\n",
       "      <th>ListingKey</th>\n",
       "      <td>0</td>\n",
       "    </tr>\n",
       "    <tr>\n",
       "      <th>ListingNumber</th>\n",
       "      <td>0</td>\n",
       "    </tr>\n",
       "    <tr>\n",
       "      <th>ListingCreationDate</th>\n",
       "      <td>0</td>\n",
       "    </tr>\n",
       "    <tr>\n",
       "      <th>CreditGrade</th>\n",
       "      <td>84984</td>\n",
       "    </tr>\n",
       "    <tr>\n",
       "      <th>Term</th>\n",
       "      <td>0</td>\n",
       "    </tr>\n",
       "    <tr>\n",
       "      <th>...</th>\n",
       "      <td>...</td>\n",
       "    </tr>\n",
       "    <tr>\n",
       "      <th>PercentFunded</th>\n",
       "      <td>0</td>\n",
       "    </tr>\n",
       "    <tr>\n",
       "      <th>Recommendations</th>\n",
       "      <td>0</td>\n",
       "    </tr>\n",
       "    <tr>\n",
       "      <th>InvestmentFromFriendsCount</th>\n",
       "      <td>0</td>\n",
       "    </tr>\n",
       "    <tr>\n",
       "      <th>InvestmentFromFriendsAmount</th>\n",
       "      <td>0</td>\n",
       "    </tr>\n",
       "    <tr>\n",
       "      <th>Investors</th>\n",
       "      <td>0</td>\n",
       "    </tr>\n",
       "  </tbody>\n",
       "</table>\n",
       "<p>81 rows × 1 columns</p>\n",
       "</div>"
      ],
      "text/plain": [
       "                                 0\n",
       "ListingKey                       0\n",
       "ListingNumber                    0\n",
       "ListingCreationDate              0\n",
       "CreditGrade                  84984\n",
       "Term                             0\n",
       "...                            ...\n",
       "PercentFunded                    0\n",
       "Recommendations                  0\n",
       "InvestmentFromFriendsCount       0\n",
       "InvestmentFromFriendsAmount      0\n",
       "Investors                        0\n",
       "\n",
       "[81 rows x 1 columns]"
      ]
     },
     "execution_count": 67,
     "metadata": {},
     "output_type": "execute_result"
    }
   ],
   "source": [
    "# Checking null values\n",
    "df.isnull().sum().to_frame()"
   ]
  },
  {
   "cell_type": "code",
   "execution_count": 68,
   "id": "cf33d33b",
   "metadata": {},
   "outputs": [
    {
     "data": {
      "text/plain": [
       "(113937, 81)"
      ]
     },
     "execution_count": 68,
     "metadata": {},
     "output_type": "execute_result"
    }
   ],
   "source": [
    "df.shape"
   ]
  },
  {
   "cell_type": "code",
   "execution_count": 69,
   "id": "3dce9c01",
   "metadata": {},
   "outputs": [
    {
     "data": {
      "text/plain": [
       "'2014-03-10 12:20:53.760000000'"
      ]
     },
     "execution_count": 69,
     "metadata": {},
     "output_type": "execute_result"
    }
   ],
   "source": [
    "# Checking for last date in dataset\n",
    "df.ListingCreationDate.max()"
   ]
  },
  {
   "cell_type": "code",
   "execution_count": 70,
   "id": "41a06909",
   "metadata": {},
   "outputs": [],
   "source": [
    "# Getting data after SEC guidelines implementation\n",
    "df_latest = df[df['ListingCreationDate']> '2010-01-01']"
   ]
  },
  {
   "cell_type": "markdown",
   "id": "dc1d36c7",
   "metadata": {},
   "source": [
    "### Data Cleaning"
   ]
  },
  {
   "cell_type": "code",
   "execution_count": 71,
   "id": "771a0092",
   "metadata": {},
   "outputs": [
    {
     "data": {
      "text/plain": [
       "0"
      ]
     },
     "execution_count": 71,
     "metadata": {},
     "output_type": "execute_result"
    }
   ],
   "source": [
    "# Checking for duplicates\n",
    "df_latest.duplicated().sum()"
   ]
  },
  {
   "cell_type": "code",
   "execution_count": 72,
   "id": "a9cd7e41",
   "metadata": {},
   "outputs": [],
   "source": [
    "# Removing duplicates\n",
    "df_latest = df_latest.drop_duplicates()"
   ]
  },
  {
   "cell_type": "code",
   "execution_count": 73,
   "id": "218dcacd",
   "metadata": {},
   "outputs": [
    {
     "data": {
      "text/plain": [
       "CreditGrade                            82675\n",
       "ClosedDate                             58848\n",
       "Occupation                              1333\n",
       "EmploymentStatusDuration                  19\n",
       "GroupKey                               80881\n",
       "DebtToIncomeRatio                       7084\n",
       "TotalProsperLoans                      63809\n",
       "TotalProsperPaymentsBilled             63809\n",
       "OnTimeProsperPayments                  63809\n",
       "ProsperPaymentsLessThanOneMonthLate    63809\n",
       "ProsperPaymentsOneMonthPlusLate        63809\n",
       "ProsperPrincipalBorrowed               63809\n",
       "ProsperPrincipalOutstanding            63809\n",
       "ScorexChangeAtTimeOfListing            66959\n",
       "LoanFirstDefaultedCycleNumber          76760\n",
       "dtype: int64"
      ]
     },
     "execution_count": 73,
     "metadata": {},
     "output_type": "execute_result"
    }
   ],
   "source": [
    "# Getting columns with null values\n",
    "null_val = df_latest.isnull().sum()\n",
    "null_val[null_val>0]"
   ]
  },
  {
   "cell_type": "code",
   "execution_count": 74,
   "id": "b72302b5",
   "metadata": {},
   "outputs": [
    {
     "data": {
      "text/plain": [
       "(82675, 81)"
      ]
     },
     "execution_count": 74,
     "metadata": {},
     "output_type": "execute_result"
    }
   ],
   "source": [
    "df_latest.shape"
   ]
  },
  {
   "cell_type": "code",
   "execution_count": 75,
   "id": "5e6c714c",
   "metadata": {},
   "outputs": [],
   "source": [
    "# Removing columns not required for model building\n",
    "cols  = ['CreditGrade','GroupKey','TotalProsperLoans','TotalProsperPaymentsBilled',\n",
    "         'OnTimeProsperPayments','ProsperPaymentsLessThanOneMonthLate','ListingCreationDate',\n",
    "         'ProsperPaymentsOneMonthPlusLate', 'ProsperPrincipalBorrowed','ProsperPrincipalOutstanding', \n",
    "         'ScorexChangeAtTimeOfListing','LoanFirstDefaultedCycleNumber']\n",
    "df_latest.drop(columns=cols,axis=1,inplace=True)"
   ]
  },
  {
   "cell_type": "code",
   "execution_count": 76,
   "id": "7ed3515c",
   "metadata": {},
   "outputs": [],
   "source": [
    "# Treating Null values\n",
    "df_latest['Occupation'].fillna('Other',inplace=True)\n",
    "df_latest['EmploymentStatusDuration'].fillna(0,inplace=True)\n",
    "df_latest['DebtToIncomeRatio'].fillna(0,inplace=True)"
   ]
  },
  {
   "cell_type": "code",
   "execution_count": 77,
   "id": "8cee6a73",
   "metadata": {},
   "outputs": [
    {
     "data": {
      "text/plain": [
       "ClosedDate    58848\n",
       "dtype: int64"
      ]
     },
     "execution_count": 77,
     "metadata": {},
     "output_type": "execute_result"
    }
   ],
   "source": [
    "# Checking null values\n",
    "null_val = df_latest.isnull().sum()\n",
    "null_val[null_val>0]"
   ]
  },
  {
   "cell_type": "code",
   "execution_count": 78,
   "id": "800e3bb7",
   "metadata": {},
   "outputs": [],
   "source": [
    "# Changing datatype\n",
    "df_latest['LoanOriginationDate'] = pd.to_datetime(df_latest['LoanOriginationDate'])\n",
    "df_latest['ClosedDate'] = pd.to_datetime(df_latest['ClosedDate'])"
   ]
  },
  {
   "cell_type": "code",
   "execution_count": 79,
   "id": "3176bf14",
   "metadata": {},
   "outputs": [
    {
     "data": {
      "text/html": [
       "<div>\n",
       "<style scoped>\n",
       "    .dataframe tbody tr th:only-of-type {\n",
       "        vertical-align: middle;\n",
       "    }\n",
       "\n",
       "    .dataframe tbody tr th {\n",
       "        vertical-align: top;\n",
       "    }\n",
       "\n",
       "    .dataframe thead th {\n",
       "        text-align: right;\n",
       "    }\n",
       "</style>\n",
       "<table border=\"1\" class=\"dataframe\">\n",
       "  <thead>\n",
       "    <tr style=\"text-align: right;\">\n",
       "      <th></th>\n",
       "      <th>ListingKey</th>\n",
       "      <th>ListingNumber</th>\n",
       "      <th>Term</th>\n",
       "      <th>LoanStatus</th>\n",
       "      <th>ClosedDate</th>\n",
       "      <th>BorrowerAPR</th>\n",
       "      <th>BorrowerRate</th>\n",
       "      <th>LenderYield</th>\n",
       "      <th>EstimatedEffectiveYield</th>\n",
       "      <th>EstimatedLoss</th>\n",
       "      <th>EstimatedReturn</th>\n",
       "      <th>ProsperRating (numeric)</th>\n",
       "      <th>ProsperRating (Alpha)</th>\n",
       "      <th>ProsperScore</th>\n",
       "      <th>ListingCategory (numeric)</th>\n",
       "      <th>BorrowerState</th>\n",
       "      <th>Occupation</th>\n",
       "      <th>EmploymentStatus</th>\n",
       "      <th>EmploymentStatusDuration</th>\n",
       "      <th>IsBorrowerHomeowner</th>\n",
       "      <th>CurrentlyInGroup</th>\n",
       "      <th>DateCreditPulled</th>\n",
       "      <th>CreditScoreRangeLower</th>\n",
       "      <th>CreditScoreRangeUpper</th>\n",
       "      <th>FirstRecordedCreditLine</th>\n",
       "      <th>CurrentCreditLines</th>\n",
       "      <th>OpenCreditLines</th>\n",
       "      <th>TotalCreditLinespast7years</th>\n",
       "      <th>OpenRevolvingAccounts</th>\n",
       "      <th>OpenRevolvingMonthlyPayment</th>\n",
       "      <th>InquiriesLast6Months</th>\n",
       "      <th>TotalInquiries</th>\n",
       "      <th>CurrentDelinquencies</th>\n",
       "      <th>AmountDelinquent</th>\n",
       "      <th>DelinquenciesLast7Years</th>\n",
       "      <th>PublicRecordsLast10Years</th>\n",
       "      <th>PublicRecordsLast12Months</th>\n",
       "      <th>RevolvingCreditBalance</th>\n",
       "      <th>BankcardUtilization</th>\n",
       "      <th>AvailableBankcardCredit</th>\n",
       "      <th>TotalTrades</th>\n",
       "      <th>TradesNeverDelinquent (percentage)</th>\n",
       "      <th>TradesOpenedLast6Months</th>\n",
       "      <th>DebtToIncomeRatio</th>\n",
       "      <th>IncomeRange</th>\n",
       "      <th>IncomeVerifiable</th>\n",
       "      <th>StatedMonthlyIncome</th>\n",
       "      <th>LoanKey</th>\n",
       "      <th>LoanCurrentDaysDelinquent</th>\n",
       "      <th>LoanMonthsSinceOrigination</th>\n",
       "      <th>LoanNumber</th>\n",
       "      <th>LoanOriginalAmount</th>\n",
       "      <th>LoanOriginationDate</th>\n",
       "      <th>LoanOriginationQuarter</th>\n",
       "      <th>MemberKey</th>\n",
       "      <th>MonthlyLoanPayment</th>\n",
       "      <th>LP_CustomerPayments</th>\n",
       "      <th>LP_CustomerPrincipalPayments</th>\n",
       "      <th>LP_InterestandFees</th>\n",
       "      <th>LP_ServiceFees</th>\n",
       "      <th>LP_CollectionFees</th>\n",
       "      <th>LP_GrossPrincipalLoss</th>\n",
       "      <th>LP_NetPrincipalLoss</th>\n",
       "      <th>LP_NonPrincipalRecoverypayments</th>\n",
       "      <th>PercentFunded</th>\n",
       "      <th>Recommendations</th>\n",
       "      <th>InvestmentFromFriendsCount</th>\n",
       "      <th>InvestmentFromFriendsAmount</th>\n",
       "      <th>Investors</th>\n",
       "    </tr>\n",
       "  </thead>\n",
       "  <tbody>\n",
       "    <tr>\n",
       "      <th>108297</th>\n",
       "      <td>DEAA359893047281162F432</td>\n",
       "      <td>1099553</td>\n",
       "      <td>36</td>\n",
       "      <td>Defaulted</td>\n",
       "      <td>2010-03-16</td>\n",
       "      <td>0.14206</td>\n",
       "      <td>0.1139</td>\n",
       "      <td>0.1039</td>\n",
       "      <td>0.09989</td>\n",
       "      <td>0.0349</td>\n",
       "      <td>0.06499</td>\n",
       "      <td>6.0</td>\n",
       "      <td>A</td>\n",
       "      <td>11.0</td>\n",
       "      <td>1</td>\n",
       "      <td>CO</td>\n",
       "      <td>Professional</td>\n",
       "      <td>Self-employed</td>\n",
       "      <td>7.0</td>\n",
       "      <td>False</td>\n",
       "      <td>False</td>\n",
       "      <td>2013-12-27 12:02:52</td>\n",
       "      <td>660.0</td>\n",
       "      <td>679.0</td>\n",
       "      <td>1983-01-01 00:00:00</td>\n",
       "      <td>6.0</td>\n",
       "      <td>5.0</td>\n",
       "      <td>33.0</td>\n",
       "      <td>4</td>\n",
       "      <td>96.0</td>\n",
       "      <td>0.0</td>\n",
       "      <td>3.0</td>\n",
       "      <td>1.0</td>\n",
       "      <td>330.0</td>\n",
       "      <td>36.0</td>\n",
       "      <td>1.0</td>\n",
       "      <td>0.0</td>\n",
       "      <td>491.0</td>\n",
       "      <td>0.0</td>\n",
       "      <td>3700.0</td>\n",
       "      <td>30.0</td>\n",
       "      <td>0.5</td>\n",
       "      <td>2.0</td>\n",
       "      <td>0.0</td>\n",
       "      <td>$75,000-99,999</td>\n",
       "      <td>False</td>\n",
       "      <td>6250.0</td>\n",
       "      <td>5BA53702830459166F4AD14</td>\n",
       "      <td>123</td>\n",
       "      <td>3</td>\n",
       "      <td>124070</td>\n",
       "      <td>2500</td>\n",
       "      <td>2013-12-31</td>\n",
       "      <td>Q4 2013</td>\n",
       "      <td>050B3418715458847641BA4</td>\n",
       "      <td>82.31</td>\n",
       "      <td>163.8399</td>\n",
       "      <td>119.1</td>\n",
       "      <td>44.7399</td>\n",
       "      <td>-3.99</td>\n",
       "      <td>0.0</td>\n",
       "      <td>0.0</td>\n",
       "      <td>0.0</td>\n",
       "      <td>0.0</td>\n",
       "      <td>1.0</td>\n",
       "      <td>0</td>\n",
       "      <td>0</td>\n",
       "      <td>0.0</td>\n",
       "      <td>1</td>\n",
       "    </tr>\n",
       "  </tbody>\n",
       "</table>\n",
       "</div>"
      ],
      "text/plain": [
       "                     ListingKey  ListingNumber  Term LoanStatus ClosedDate  \\\n",
       "108297  DEAA359893047281162F432        1099553    36  Defaulted 2010-03-16   \n",
       "\n",
       "        BorrowerAPR  BorrowerRate  LenderYield  EstimatedEffectiveYield  \\\n",
       "108297      0.14206        0.1139       0.1039                  0.09989   \n",
       "\n",
       "        EstimatedLoss  EstimatedReturn  ProsperRating (numeric)  \\\n",
       "108297         0.0349          0.06499                      6.0   \n",
       "\n",
       "       ProsperRating (Alpha)  ProsperScore  ListingCategory (numeric)  \\\n",
       "108297                     A          11.0                          1   \n",
       "\n",
       "       BorrowerState    Occupation EmploymentStatus  EmploymentStatusDuration  \\\n",
       "108297            CO  Professional    Self-employed                       7.0   \n",
       "\n",
       "        IsBorrowerHomeowner  CurrentlyInGroup     DateCreditPulled  \\\n",
       "108297                False             False  2013-12-27 12:02:52   \n",
       "\n",
       "        CreditScoreRangeLower  CreditScoreRangeUpper FirstRecordedCreditLine  \\\n",
       "108297                  660.0                  679.0     1983-01-01 00:00:00   \n",
       "\n",
       "        CurrentCreditLines  OpenCreditLines  TotalCreditLinespast7years  \\\n",
       "108297                 6.0              5.0                        33.0   \n",
       "\n",
       "        OpenRevolvingAccounts  OpenRevolvingMonthlyPayment  \\\n",
       "108297                      4                         96.0   \n",
       "\n",
       "        InquiriesLast6Months  TotalInquiries  CurrentDelinquencies  \\\n",
       "108297                   0.0             3.0                   1.0   \n",
       "\n",
       "        AmountDelinquent  DelinquenciesLast7Years  PublicRecordsLast10Years  \\\n",
       "108297             330.0                     36.0                       1.0   \n",
       "\n",
       "        PublicRecordsLast12Months  RevolvingCreditBalance  \\\n",
       "108297                        0.0                   491.0   \n",
       "\n",
       "        BankcardUtilization  AvailableBankcardCredit  TotalTrades  \\\n",
       "108297                  0.0                   3700.0         30.0   \n",
       "\n",
       "        TradesNeverDelinquent (percentage)  TradesOpenedLast6Months  \\\n",
       "108297                                 0.5                      2.0   \n",
       "\n",
       "        DebtToIncomeRatio     IncomeRange  IncomeVerifiable  \\\n",
       "108297                0.0  $75,000-99,999             False   \n",
       "\n",
       "        StatedMonthlyIncome                  LoanKey  \\\n",
       "108297               6250.0  5BA53702830459166F4AD14   \n",
       "\n",
       "        LoanCurrentDaysDelinquent  LoanMonthsSinceOrigination  LoanNumber  \\\n",
       "108297                        123                           3      124070   \n",
       "\n",
       "        LoanOriginalAmount LoanOriginationDate LoanOriginationQuarter  \\\n",
       "108297                2500          2013-12-31                Q4 2013   \n",
       "\n",
       "                      MemberKey  MonthlyLoanPayment  LP_CustomerPayments  \\\n",
       "108297  050B3418715458847641BA4               82.31             163.8399   \n",
       "\n",
       "        LP_CustomerPrincipalPayments  LP_InterestandFees  LP_ServiceFees  \\\n",
       "108297                         119.1             44.7399           -3.99   \n",
       "\n",
       "        LP_CollectionFees  LP_GrossPrincipalLoss  LP_NetPrincipalLoss  \\\n",
       "108297                0.0                    0.0                  0.0   \n",
       "\n",
       "        LP_NonPrincipalRecoverypayments  PercentFunded  Recommendations  \\\n",
       "108297                              0.0            1.0                0   \n",
       "\n",
       "        InvestmentFromFriendsCount  InvestmentFromFriendsAmount  Investors  \n",
       "108297                           0                          0.0          1  "
      ]
     },
     "execution_count": 79,
     "metadata": {},
     "output_type": "execute_result"
    }
   ],
   "source": [
    "df_latest[df_latest['ClosedDate']<df_latest['LoanOriginationDate']]\n",
    "# There is a listing with closed date before loan origination date, we can remove these row"
   ]
  },
  {
   "cell_type": "code",
   "execution_count": 80,
   "id": "afbd00e4",
   "metadata": {},
   "outputs": [],
   "source": [
    "# Deleting rows with wrong values\n",
    "discard = df_latest[df_latest['ClosedDate']<df_latest['LoanOriginationDate']].index\n",
    "df_latest.drop(discard,axis=0,inplace=True)"
   ]
  },
  {
   "cell_type": "code",
   "execution_count": 81,
   "id": "0f236825",
   "metadata": {},
   "outputs": [],
   "source": [
    "features = [ 'ListingNumber', 'Term','LoanStatus', 'ClosedDate',\n",
    " 'BorrowerRate','ProsperRating (numeric)', 'ListingCategory (numeric)',\n",
    " 'BorrowerState','Occupation', 'EmploymentStatus', 'EmploymentStatusDuration',\n",
    " 'IsBorrowerHomeowner', 'CurrentlyInGroup', 'DateCreditPulled','CreditScoreRangeLower',\n",
    " 'CreditScoreRangeUpper','FirstRecordedCreditLine', 'CurrentCreditLines', 'OpenCreditLines',\n",
    " 'TotalCreditLinespast7years', 'OpenRevolvingAccounts','OpenRevolvingMonthlyPayment', \n",
    " 'InquiriesLast6Months', 'TotalInquiries','CurrentDelinquencies', 'AmountDelinquent',\n",
    " 'DelinquenciesLast7Years','PublicRecordsLast10Years', 'PublicRecordsLast12Months','RevolvingCreditBalance', \n",
    " 'BankcardUtilization','AvailableBankcardCredit', 'DebtToIncomeRatio', 'IncomeRange', 'IncomeVerifiable','StatedMonthlyIncome',\n",
    " 'LoanCurrentDaysDelinquent', 'LoanMonthsSinceOrigination', 'LoanNumber', 'LoanOriginalAmount',\n",
    " 'LoanOriginationDate', 'LoanOriginationQuarter', 'MonthlyLoanPayment']"
   ]
  },
  {
   "cell_type": "code",
   "execution_count": 82,
   "id": "8398872a",
   "metadata": {},
   "outputs": [
    {
     "data": {
      "text/plain": [
       "(82674, 43)"
      ]
     },
     "execution_count": 82,
     "metadata": {},
     "output_type": "execute_result"
    }
   ],
   "source": [
    "# Getting subset\n",
    "df_new = df_latest[features]\n",
    "df_new.shape"
   ]
  },
  {
   "cell_type": "code",
   "execution_count": 83,
   "id": "76c78e22",
   "metadata": {},
   "outputs": [
    {
     "data": {
      "text/plain": [
       "ClosedDate    58848\n",
       "dtype: int64"
      ]
     },
     "execution_count": 83,
     "metadata": {},
     "output_type": "execute_result"
    }
   ],
   "source": [
    "na_val = df_new.isnull().sum()\n",
    "na_val[na_val>0]"
   ]
  },
  {
   "cell_type": "code",
   "execution_count": 84,
   "id": "af19ed1a",
   "metadata": {},
   "outputs": [
    {
     "name": "stderr",
     "output_type": "stream",
     "text": [
      "/tmp/ipykernel_96949/570900292.py:2: SettingWithCopyWarning: \n",
      "A value is trying to be set on a copy of a slice from a DataFrame.\n",
      "Try using .loc[row_indexer,col_indexer] = value instead\n",
      "\n",
      "See the caveats in the documentation: https://pandas.pydata.org/pandas-docs/stable/user_guide/indexing.html#returning-a-view-versus-a-copy\n",
      "  df_new['Year'] = df_new['LoanOriginationDate'].apply(lambda x: x.year)\n",
      "/tmp/ipykernel_96949/570900292.py:3: SettingWithCopyWarning: \n",
      "A value is trying to be set on a copy of a slice from a DataFrame.\n",
      "Try using .loc[row_indexer,col_indexer] = value instead\n",
      "\n",
      "See the caveats in the documentation: https://pandas.pydata.org/pandas-docs/stable/user_guide/indexing.html#returning-a-view-versus-a-copy\n",
      "  df_new['Month'] = df_new['LoanOriginationDate'].apply(lambda x: x.month)\n"
     ]
    },
    {
     "data": {
      "text/plain": [
       "1     9199\n",
       "12    8388\n",
       "10    8368\n",
       "2     7835\n",
       "11    7588\n",
       "9     6486\n",
       "8     6390\n",
       "7     6274\n",
       "3     6021\n",
       "6     5931\n",
       "5     5348\n",
       "4     4846\n",
       "Name: Month, dtype: int64"
      ]
     },
     "execution_count": 84,
     "metadata": {},
     "output_type": "execute_result"
    }
   ],
   "source": [
    "# Adding new column Year, Month\n",
    "df_new['Year'] = df_new['LoanOriginationDate'].apply(lambda x: x.year)\n",
    "df_new['Month'] = df_new['LoanOriginationDate'].apply(lambda x: x.month)\n",
    "# Checking values\n",
    "df_new['Month'].value_counts()"
   ]
  },
  {
   "cell_type": "code",
   "execution_count": 85,
   "id": "353ab0d7",
   "metadata": {},
   "outputs": [
    {
     "data": {
      "text/plain": [
       "Current                   56576\n",
       "Completed                 17819\n",
       "Chargedoff                 5083\n",
       "Defaulted                   924\n",
       "Past Due (1-15 days)        806\n",
       "Past Due (31-60 days)       363\n",
       "Past Due (61-90 days)       313\n",
       "Past Due (91-120 days)      304\n",
       "Past Due (16-30 days)       265\n",
       "FinalPaymentInProgress      205\n",
       "Past Due (>120 days)         16\n",
       "Name: LoanStatus, dtype: int64"
      ]
     },
     "execution_count": 85,
     "metadata": {},
     "output_type": "execute_result"
    }
   ],
   "source": [
    "# Checking target values\n",
    "df_new['LoanStatus'].value_counts()"
   ]
  },
  {
   "cell_type": "code",
   "execution_count": 86,
   "id": "38aae54e",
   "metadata": {},
   "outputs": [],
   "source": [
    "# Treating target values\n",
    "\n",
    "ind = df_new[df_new['LoanStatus'].isin(['Past Due (1-15 days)','Past Due (16-30 days)','Past Due (31-60 days)',\n",
    "                                  'Past Due (61-90 days)','Past Due (91-120 days)','Past Due (>120 days)'])].index\n",
    "ind1 = df_new[df_new['LoanStatus'] == 'FinalPaymentInProgress'].index\n",
    "\n",
    "df_new.loc[ind,'LoanStatus']='Delayed'\n",
    "df_new.loc[ind1,'LoanStatus']='Completed'"
   ]
  },
  {
   "cell_type": "code",
   "execution_count": 87,
   "id": "f956f14e",
   "metadata": {},
   "outputs": [
    {
     "data": {
      "text/plain": [
       "Current       56576\n",
       "Completed     18024\n",
       "Chargedoff     5083\n",
       "Delayed        2067\n",
       "Defaulted       924\n",
       "Name: LoanStatus, dtype: int64"
      ]
     },
     "execution_count": 87,
     "metadata": {},
     "output_type": "execute_result"
    }
   ],
   "source": [
    "df_new['LoanStatus'].value_counts()"
   ]
  },
  {
   "cell_type": "markdown",
   "id": "8498b4ea",
   "metadata": {},
   "source": [
    "### Data Preparation"
   ]
  },
  {
   "cell_type": "code",
   "execution_count": 88,
   "id": "27af72a6",
   "metadata": {},
   "outputs": [
    {
     "data": {
      "text/plain": [
       "['LoanStatus',\n",
       " 'BorrowerState',\n",
       " 'Occupation',\n",
       " 'EmploymentStatus',\n",
       " 'DateCreditPulled',\n",
       " 'FirstRecordedCreditLine',\n",
       " 'IncomeRange',\n",
       " 'LoanOriginationQuarter']"
      ]
     },
     "execution_count": 88,
     "metadata": {},
     "output_type": "execute_result"
    }
   ],
   "source": [
    "# Identifying Categorical and Numerical features\n",
    "category = []\n",
    "integer = []\n",
    "for label, content in df_new.items():\n",
    "    if pd.api.types.is_string_dtype(content):\n",
    "        category.append(label)\n",
    "    else:\n",
    "        integer.append(label)\n",
    "        \n",
    "category"
   ]
  },
  {
   "cell_type": "code",
   "execution_count": 89,
   "id": "156e73c5",
   "metadata": {},
   "outputs": [
    {
     "data": {
      "text/html": [
       "<div>\n",
       "<style scoped>\n",
       "    .dataframe tbody tr th:only-of-type {\n",
       "        vertical-align: middle;\n",
       "    }\n",
       "\n",
       "    .dataframe tbody tr th {\n",
       "        vertical-align: top;\n",
       "    }\n",
       "\n",
       "    .dataframe thead th {\n",
       "        text-align: right;\n",
       "    }\n",
       "</style>\n",
       "<table border=\"1\" class=\"dataframe\">\n",
       "  <thead>\n",
       "    <tr style=\"text-align: right;\">\n",
       "      <th></th>\n",
       "      <th>ListingNumber</th>\n",
       "      <th>Term</th>\n",
       "      <th>LoanStatus</th>\n",
       "      <th>ClosedDate</th>\n",
       "      <th>BorrowerRate</th>\n",
       "      <th>ProsperRating (numeric)</th>\n",
       "      <th>ListingCategory (numeric)</th>\n",
       "      <th>BorrowerState</th>\n",
       "      <th>Occupation</th>\n",
       "      <th>EmploymentStatus</th>\n",
       "      <th>EmploymentStatusDuration</th>\n",
       "      <th>IsBorrowerHomeowner</th>\n",
       "      <th>CurrentlyInGroup</th>\n",
       "      <th>DateCreditPulled</th>\n",
       "      <th>CreditScoreRangeLower</th>\n",
       "      <th>CreditScoreRangeUpper</th>\n",
       "      <th>FirstRecordedCreditLine</th>\n",
       "      <th>CurrentCreditLines</th>\n",
       "      <th>OpenCreditLines</th>\n",
       "      <th>TotalCreditLinespast7years</th>\n",
       "      <th>OpenRevolvingAccounts</th>\n",
       "      <th>OpenRevolvingMonthlyPayment</th>\n",
       "      <th>InquiriesLast6Months</th>\n",
       "      <th>TotalInquiries</th>\n",
       "      <th>CurrentDelinquencies</th>\n",
       "      <th>AmountDelinquent</th>\n",
       "      <th>DelinquenciesLast7Years</th>\n",
       "      <th>PublicRecordsLast10Years</th>\n",
       "      <th>PublicRecordsLast12Months</th>\n",
       "      <th>RevolvingCreditBalance</th>\n",
       "      <th>BankcardUtilization</th>\n",
       "      <th>AvailableBankcardCredit</th>\n",
       "      <th>DebtToIncomeRatio</th>\n",
       "      <th>IncomeRange</th>\n",
       "      <th>IncomeVerifiable</th>\n",
       "      <th>StatedMonthlyIncome</th>\n",
       "      <th>LoanCurrentDaysDelinquent</th>\n",
       "      <th>LoanMonthsSinceOrigination</th>\n",
       "      <th>LoanNumber</th>\n",
       "      <th>LoanOriginalAmount</th>\n",
       "      <th>LoanOriginationDate</th>\n",
       "      <th>LoanOriginationQuarter</th>\n",
       "      <th>MonthlyLoanPayment</th>\n",
       "      <th>Year</th>\n",
       "      <th>Month</th>\n",
       "    </tr>\n",
       "  </thead>\n",
       "  <tbody>\n",
       "    <tr>\n",
       "      <th>93209</th>\n",
       "      <td>531819</td>\n",
       "      <td>36</td>\n",
       "      <td>Completed</td>\n",
       "      <td>2012-09-13</td>\n",
       "      <td>0.2574</td>\n",
       "      <td>3.0</td>\n",
       "      <td>7</td>\n",
       "      <td>WA</td>\n",
       "      <td>Accountant/CPA</td>\n",
       "      <td>Self-employed</td>\n",
       "      <td>149.0</td>\n",
       "      <td>False</td>\n",
       "      <td>False</td>\n",
       "      <td>2011-10-10 13:58:54</td>\n",
       "      <td>640.0</td>\n",
       "      <td>659.0</td>\n",
       "      <td>1995-06-01 00:00:00</td>\n",
       "      <td>6.0</td>\n",
       "      <td>6.0</td>\n",
       "      <td>9.0</td>\n",
       "      <td>6</td>\n",
       "      <td>385.0</td>\n",
       "      <td>0.0</td>\n",
       "      <td>2.0</td>\n",
       "      <td>0.0</td>\n",
       "      <td>0.0</td>\n",
       "      <td>0.0</td>\n",
       "      <td>0.0</td>\n",
       "      <td>0.0</td>\n",
       "      <td>9776.0</td>\n",
       "      <td>0.87</td>\n",
       "      <td>967.0</td>\n",
       "      <td>0.0</td>\n",
       "      <td>$25,000-49,999</td>\n",
       "      <td>False</td>\n",
       "      <td>2500.0</td>\n",
       "      <td>0</td>\n",
       "      <td>29</td>\n",
       "      <td>54446</td>\n",
       "      <td>10000</td>\n",
       "      <td>2011-10-13</td>\n",
       "      <td>Q4 2011</td>\n",
       "      <td>401.52</td>\n",
       "      <td>2011</td>\n",
       "      <td>10</td>\n",
       "    </tr>\n",
       "  </tbody>\n",
       "</table>\n",
       "</div>"
      ],
      "text/plain": [
       "       ListingNumber  Term LoanStatus ClosedDate  BorrowerRate  \\\n",
       "93209         531819    36  Completed 2012-09-13        0.2574   \n",
       "\n",
       "       ProsperRating (numeric)  ListingCategory (numeric) BorrowerState  \\\n",
       "93209                      3.0                          7            WA   \n",
       "\n",
       "           Occupation EmploymentStatus  EmploymentStatusDuration  \\\n",
       "93209  Accountant/CPA    Self-employed                     149.0   \n",
       "\n",
       "       IsBorrowerHomeowner  CurrentlyInGroup     DateCreditPulled  \\\n",
       "93209                False             False  2011-10-10 13:58:54   \n",
       "\n",
       "       CreditScoreRangeLower  CreditScoreRangeUpper FirstRecordedCreditLine  \\\n",
       "93209                  640.0                  659.0     1995-06-01 00:00:00   \n",
       "\n",
       "       CurrentCreditLines  OpenCreditLines  TotalCreditLinespast7years  \\\n",
       "93209                 6.0              6.0                         9.0   \n",
       "\n",
       "       OpenRevolvingAccounts  OpenRevolvingMonthlyPayment  \\\n",
       "93209                      6                        385.0   \n",
       "\n",
       "       InquiriesLast6Months  TotalInquiries  CurrentDelinquencies  \\\n",
       "93209                   0.0             2.0                   0.0   \n",
       "\n",
       "       AmountDelinquent  DelinquenciesLast7Years  PublicRecordsLast10Years  \\\n",
       "93209               0.0                      0.0                       0.0   \n",
       "\n",
       "       PublicRecordsLast12Months  RevolvingCreditBalance  BankcardUtilization  \\\n",
       "93209                        0.0                  9776.0                 0.87   \n",
       "\n",
       "       AvailableBankcardCredit  DebtToIncomeRatio     IncomeRange  \\\n",
       "93209                    967.0                0.0  $25,000-49,999   \n",
       "\n",
       "       IncomeVerifiable  StatedMonthlyIncome  LoanCurrentDaysDelinquent  \\\n",
       "93209             False               2500.0                          0   \n",
       "\n",
       "       LoanMonthsSinceOrigination  LoanNumber  LoanOriginalAmount  \\\n",
       "93209                          29       54446               10000   \n",
       "\n",
       "      LoanOriginationDate LoanOriginationQuarter  MonthlyLoanPayment  Year  \\\n",
       "93209          2011-10-13                Q4 2011              401.52  2011   \n",
       "\n",
       "       Month  \n",
       "93209     10  "
      ]
     },
     "execution_count": 89,
     "metadata": {},
     "output_type": "execute_result"
    }
   ],
   "source": [
    "# Making copy to prepare for modeling\n",
    "data = df_new.copy()\n",
    "data.reset_index()\n",
    "data.sample(1)"
   ]
  },
  {
   "cell_type": "code",
   "execution_count": 93,
   "id": "d5c58e08",
   "metadata": {},
   "outputs": [],
   "source": [
    "# Converting features to categorical\n",
    "for label, content in data.items():\n",
    "    if pd.api.types.is_string_dtype(content):\n",
    "        data[label] = content.astype('category').cat.as_ordered()"
   ]
  },
  {
   "cell_type": "code",
   "execution_count": 94,
   "id": "6727eb52",
   "metadata": {},
   "outputs": [],
   "source": [
    "# Categorical features to codes\n",
    "for label,content in data.items():\n",
    "    if not pd.api.types.is_numeric_dtype(content):\n",
    "        data[label] = pd.Categorical(content).codes+1"
   ]
  },
  {
   "cell_type": "code",
   "execution_count": 97,
   "id": "feba1829",
   "metadata": {},
   "outputs": [
    {
     "data": {
      "text/html": [
       "<div>\n",
       "<style scoped>\n",
       "    .dataframe tbody tr th:only-of-type {\n",
       "        vertical-align: middle;\n",
       "    }\n",
       "\n",
       "    .dataframe tbody tr th {\n",
       "        vertical-align: top;\n",
       "    }\n",
       "\n",
       "    .dataframe thead th {\n",
       "        text-align: right;\n",
       "    }\n",
       "</style>\n",
       "<table border=\"1\" class=\"dataframe\">\n",
       "  <thead>\n",
       "    <tr style=\"text-align: right;\">\n",
       "      <th></th>\n",
       "      <th>ListingNumber</th>\n",
       "      <th>Term</th>\n",
       "      <th>LoanStatus</th>\n",
       "      <th>ClosedDate</th>\n",
       "      <th>BorrowerRate</th>\n",
       "      <th>ProsperRating (numeric)</th>\n",
       "      <th>ListingCategory (numeric)</th>\n",
       "      <th>BorrowerState</th>\n",
       "      <th>Occupation</th>\n",
       "      <th>EmploymentStatus</th>\n",
       "      <th>EmploymentStatusDuration</th>\n",
       "      <th>IsBorrowerHomeowner</th>\n",
       "      <th>CurrentlyInGroup</th>\n",
       "      <th>DateCreditPulled</th>\n",
       "      <th>CreditScoreRangeLower</th>\n",
       "      <th>CreditScoreRangeUpper</th>\n",
       "      <th>FirstRecordedCreditLine</th>\n",
       "      <th>CurrentCreditLines</th>\n",
       "      <th>OpenCreditLines</th>\n",
       "      <th>TotalCreditLinespast7years</th>\n",
       "      <th>OpenRevolvingAccounts</th>\n",
       "      <th>OpenRevolvingMonthlyPayment</th>\n",
       "      <th>InquiriesLast6Months</th>\n",
       "      <th>TotalInquiries</th>\n",
       "      <th>CurrentDelinquencies</th>\n",
       "      <th>AmountDelinquent</th>\n",
       "      <th>DelinquenciesLast7Years</th>\n",
       "      <th>PublicRecordsLast10Years</th>\n",
       "      <th>PublicRecordsLast12Months</th>\n",
       "      <th>RevolvingCreditBalance</th>\n",
       "      <th>BankcardUtilization</th>\n",
       "      <th>AvailableBankcardCredit</th>\n",
       "      <th>DebtToIncomeRatio</th>\n",
       "      <th>IncomeRange</th>\n",
       "      <th>IncomeVerifiable</th>\n",
       "      <th>StatedMonthlyIncome</th>\n",
       "      <th>LoanCurrentDaysDelinquent</th>\n",
       "      <th>LoanMonthsSinceOrigination</th>\n",
       "      <th>LoanNumber</th>\n",
       "      <th>LoanOriginalAmount</th>\n",
       "      <th>LoanOriginationDate</th>\n",
       "      <th>LoanOriginationQuarter</th>\n",
       "      <th>MonthlyLoanPayment</th>\n",
       "      <th>Year</th>\n",
       "      <th>Month</th>\n",
       "    </tr>\n",
       "  </thead>\n",
       "  <tbody>\n",
       "    <tr>\n",
       "      <th>72331</th>\n",
       "      <td>977573</td>\n",
       "      <td>36</td>\n",
       "      <td>3</td>\n",
       "      <td>0</td>\n",
       "      <td>0.2045</td>\n",
       "      <td>4.0</td>\n",
       "      <td>1</td>\n",
       "      <td>11</td>\n",
       "      <td>51</td>\n",
       "      <td>1</td>\n",
       "      <td>32.0</td>\n",
       "      <td>False</td>\n",
       "      <td>False</td>\n",
       "      <td>64412</td>\n",
       "      <td>740.0</td>\n",
       "      <td>759.0</td>\n",
       "      <td>10183</td>\n",
       "      <td>9.0</td>\n",
       "      <td>9.0</td>\n",
       "      <td>28.0</td>\n",
       "      <td>5</td>\n",
       "      <td>523.0</td>\n",
       "      <td>2.0</td>\n",
       "      <td>6.0</td>\n",
       "      <td>0.0</td>\n",
       "      <td>0.0</td>\n",
       "      <td>0.0</td>\n",
       "      <td>0.0</td>\n",
       "      <td>0.0</td>\n",
       "      <td>2200.0</td>\n",
       "      <td>0.2</td>\n",
       "      <td>8159.0</td>\n",
       "      <td>0.55</td>\n",
       "      <td>4</td>\n",
       "      <td>True</td>\n",
       "      <td>4000.0</td>\n",
       "      <td>0</td>\n",
       "      <td>4</td>\n",
       "      <td>112120</td>\n",
       "      <td>15000</td>\n",
       "      <td>973</td>\n",
       "      <td>17</td>\n",
       "      <td>560.9</td>\n",
       "      <td>2013</td>\n",
       "      <td>11</td>\n",
       "    </tr>\n",
       "  </tbody>\n",
       "</table>\n",
       "</div>"
      ],
      "text/plain": [
       "       ListingNumber  Term  LoanStatus  ClosedDate  BorrowerRate  \\\n",
       "72331         977573    36           3           0        0.2045   \n",
       "\n",
       "       ProsperRating (numeric)  ListingCategory (numeric)  BorrowerState  \\\n",
       "72331                      4.0                          1             11   \n",
       "\n",
       "       Occupation  EmploymentStatus  EmploymentStatusDuration  \\\n",
       "72331          51                 1                      32.0   \n",
       "\n",
       "       IsBorrowerHomeowner  CurrentlyInGroup  DateCreditPulled  \\\n",
       "72331                False             False             64412   \n",
       "\n",
       "       CreditScoreRangeLower  CreditScoreRangeUpper  FirstRecordedCreditLine  \\\n",
       "72331                  740.0                  759.0                    10183   \n",
       "\n",
       "       CurrentCreditLines  OpenCreditLines  TotalCreditLinespast7years  \\\n",
       "72331                 9.0              9.0                        28.0   \n",
       "\n",
       "       OpenRevolvingAccounts  OpenRevolvingMonthlyPayment  \\\n",
       "72331                      5                        523.0   \n",
       "\n",
       "       InquiriesLast6Months  TotalInquiries  CurrentDelinquencies  \\\n",
       "72331                   2.0             6.0                   0.0   \n",
       "\n",
       "       AmountDelinquent  DelinquenciesLast7Years  PublicRecordsLast10Years  \\\n",
       "72331               0.0                      0.0                       0.0   \n",
       "\n",
       "       PublicRecordsLast12Months  RevolvingCreditBalance  BankcardUtilization  \\\n",
       "72331                        0.0                  2200.0                  0.2   \n",
       "\n",
       "       AvailableBankcardCredit  DebtToIncomeRatio  IncomeRange  \\\n",
       "72331                   8159.0               0.55            4   \n",
       "\n",
       "       IncomeVerifiable  StatedMonthlyIncome  LoanCurrentDaysDelinquent  \\\n",
       "72331              True               4000.0                          0   \n",
       "\n",
       "       LoanMonthsSinceOrigination  LoanNumber  LoanOriginalAmount  \\\n",
       "72331                           4      112120               15000   \n",
       "\n",
       "       LoanOriginationDate  LoanOriginationQuarter  MonthlyLoanPayment  Year  \\\n",
       "72331                  973                      17               560.9  2013   \n",
       "\n",
       "       Month  \n",
       "72331     11  "
      ]
     },
     "execution_count": 97,
     "metadata": {},
     "output_type": "execute_result"
    }
   ],
   "source": [
    "data.sample(1)"
   ]
  },
  {
   "cell_type": "markdown",
   "id": "22b66321",
   "metadata": {},
   "source": [
    "### Building Model"
   ]
  },
  {
   "cell_type": "code",
   "execution_count": 98,
   "id": "a9a26b2e",
   "metadata": {},
   "outputs": [],
   "source": [
    "# Dividing Features and Target as Train and Test set\n",
    "X_train,X_test,y_train,y_test = train_test_split(data.drop('LoanStatus',axis=1),data['LoanStatus'],\n",
    "                                                 test_size=0.1,random_state=42)"
   ]
  },
  {
   "cell_type": "markdown",
   "id": "ee58116b",
   "metadata": {},
   "source": [
    "#### Support vector machine classifier"
   ]
  },
  {
   "cell_type": "code",
   "execution_count": 34,
   "id": "f0f72860",
   "metadata": {},
   "outputs": [],
   "source": [
    "# Training SVC\n",
    "#clf = SVC()\n",
    "#clf.fit(X_train, y_train)"
   ]
  },
  {
   "cell_type": "code",
   "execution_count": 35,
   "id": "bb4351e5",
   "metadata": {},
   "outputs": [],
   "source": [
    "# Model Accuracy for X_test\n",
    "#clf.score(X_test,y_test)"
   ]
  },
  {
   "cell_type": "code",
   "execution_count": 36,
   "id": "e999c4e1",
   "metadata": {},
   "outputs": [],
   "source": [
    "#y_pred = clf.predict(X_test)\n",
    "#print(classification_report(y_test,y_pred))"
   ]
  },
  {
   "cell_type": "code",
   "execution_count": 37,
   "id": "b184de94",
   "metadata": {},
   "outputs": [],
   "source": [
    "#np.sqrt(mean_squared_log_error(y_test,y_pred))"
   ]
  },
  {
   "cell_type": "code",
   "execution_count": 38,
   "id": "8e2655d6",
   "metadata": {},
   "outputs": [],
   "source": [
    "# Creating confusion matrix\n",
    "#plot_confusion_matrix(confusion_matrix(y_test,y_pred),figsize=(5,3))"
   ]
  },
  {
   "cell_type": "markdown",
   "id": "20eb17da",
   "metadata": {},
   "source": [
    "#### Decision tree classifier"
   ]
  },
  {
   "cell_type": "code",
   "execution_count": 99,
   "id": "3c44389a",
   "metadata": {},
   "outputs": [
    {
     "data": {
      "text/html": [
       "<style>#sk-container-id-4 {color: black;background-color: white;}#sk-container-id-4 pre{padding: 0;}#sk-container-id-4 div.sk-toggleable {background-color: white;}#sk-container-id-4 label.sk-toggleable__label {cursor: pointer;display: block;width: 100%;margin-bottom: 0;padding: 0.3em;box-sizing: border-box;text-align: center;}#sk-container-id-4 label.sk-toggleable__label-arrow:before {content: \"▸\";float: left;margin-right: 0.25em;color: #696969;}#sk-container-id-4 label.sk-toggleable__label-arrow:hover:before {color: black;}#sk-container-id-4 div.sk-estimator:hover label.sk-toggleable__label-arrow:before {color: black;}#sk-container-id-4 div.sk-toggleable__content {max-height: 0;max-width: 0;overflow: hidden;text-align: left;background-color: #f0f8ff;}#sk-container-id-4 div.sk-toggleable__content pre {margin: 0.2em;color: black;border-radius: 0.25em;background-color: #f0f8ff;}#sk-container-id-4 input.sk-toggleable__control:checked~div.sk-toggleable__content {max-height: 200px;max-width: 100%;overflow: auto;}#sk-container-id-4 input.sk-toggleable__control:checked~label.sk-toggleable__label-arrow:before {content: \"▾\";}#sk-container-id-4 div.sk-estimator input.sk-toggleable__control:checked~label.sk-toggleable__label {background-color: #d4ebff;}#sk-container-id-4 div.sk-label input.sk-toggleable__control:checked~label.sk-toggleable__label {background-color: #d4ebff;}#sk-container-id-4 input.sk-hidden--visually {border: 0;clip: rect(1px 1px 1px 1px);clip: rect(1px, 1px, 1px, 1px);height: 1px;margin: -1px;overflow: hidden;padding: 0;position: absolute;width: 1px;}#sk-container-id-4 div.sk-estimator {font-family: monospace;background-color: #f0f8ff;border: 1px dotted black;border-radius: 0.25em;box-sizing: border-box;margin-bottom: 0.5em;}#sk-container-id-4 div.sk-estimator:hover {background-color: #d4ebff;}#sk-container-id-4 div.sk-parallel-item::after {content: \"\";width: 100%;border-bottom: 1px solid gray;flex-grow: 1;}#sk-container-id-4 div.sk-label:hover label.sk-toggleable__label {background-color: #d4ebff;}#sk-container-id-4 div.sk-serial::before {content: \"\";position: absolute;border-left: 1px solid gray;box-sizing: border-box;top: 0;bottom: 0;left: 50%;z-index: 0;}#sk-container-id-4 div.sk-serial {display: flex;flex-direction: column;align-items: center;background-color: white;padding-right: 0.2em;padding-left: 0.2em;position: relative;}#sk-container-id-4 div.sk-item {position: relative;z-index: 1;}#sk-container-id-4 div.sk-parallel {display: flex;align-items: stretch;justify-content: center;background-color: white;position: relative;}#sk-container-id-4 div.sk-item::before, #sk-container-id-4 div.sk-parallel-item::before {content: \"\";position: absolute;border-left: 1px solid gray;box-sizing: border-box;top: 0;bottom: 0;left: 50%;z-index: -1;}#sk-container-id-4 div.sk-parallel-item {display: flex;flex-direction: column;z-index: 1;position: relative;background-color: white;}#sk-container-id-4 div.sk-parallel-item:first-child::after {align-self: flex-end;width: 50%;}#sk-container-id-4 div.sk-parallel-item:last-child::after {align-self: flex-start;width: 50%;}#sk-container-id-4 div.sk-parallel-item:only-child::after {width: 0;}#sk-container-id-4 div.sk-dashed-wrapped {border: 1px dashed gray;margin: 0 0.4em 0.5em 0.4em;box-sizing: border-box;padding-bottom: 0.4em;background-color: white;}#sk-container-id-4 div.sk-label label {font-family: monospace;font-weight: bold;display: inline-block;line-height: 1.2em;}#sk-container-id-4 div.sk-label-container {text-align: center;}#sk-container-id-4 div.sk-container {/* jupyter's `normalize.less` sets `[hidden] { display: none; }` but bootstrap.min.css set `[hidden] { display: none !important; }` so we also need the `!important` here to be able to override the default hidden behavior on the sphinx rendered scikit-learn.org. See: https://github.com/scikit-learn/scikit-learn/issues/21755 */display: inline-block !important;position: relative;}#sk-container-id-4 div.sk-text-repr-fallback {display: none;}</style><div id=\"sk-container-id-4\" class=\"sk-top-container\"><div class=\"sk-text-repr-fallback\"><pre>DecisionTreeClassifier()</pre><b>In a Jupyter environment, please rerun this cell to show the HTML representation or trust the notebook. <br />On GitHub, the HTML representation is unable to render, please try loading this page with nbviewer.org.</b></div><div class=\"sk-container\" hidden><div class=\"sk-item\"><div class=\"sk-estimator sk-toggleable\"><input class=\"sk-toggleable__control sk-hidden--visually\" id=\"sk-estimator-id-4\" type=\"checkbox\" checked><label for=\"sk-estimator-id-4\" class=\"sk-toggleable__label sk-toggleable__label-arrow\">DecisionTreeClassifier</label><div class=\"sk-toggleable__content\"><pre>DecisionTreeClassifier()</pre></div></div></div></div></div>"
      ],
      "text/plain": [
       "DecisionTreeClassifier()"
      ]
     },
     "execution_count": 99,
     "metadata": {},
     "output_type": "execute_result"
    }
   ],
   "source": [
    "dtc = DecisionTreeClassifier()\n",
    "dtc.fit(X_train, y_train)"
   ]
  },
  {
   "cell_type": "code",
   "execution_count": 100,
   "id": "339cbe70",
   "metadata": {},
   "outputs": [
    {
     "data": {
      "text/plain": [
       "0.9874213836477987"
      ]
     },
     "execution_count": 100,
     "metadata": {},
     "output_type": "execute_result"
    }
   ],
   "source": [
    "dtc.score(X_test,y_test)"
   ]
  },
  {
   "cell_type": "code",
   "execution_count": 107,
   "id": "9304ae69",
   "metadata": {},
   "outputs": [
    {
     "data": {
      "image/png": "[encoded data removed]",
      "text/plain": [
       "<Figure size 500x300 with 1 Axes>"
      ]
     },
     "metadata": {},
     "output_type": "display_data"
    }
   ],
   "source": [
    "dty_pred = dtc.predict(X_test)\n",
    "plot_confusion_matrix(confusion_matrix(y_test,dty_pred),figsize=(5,3));                      "
   ]
  },
  {
   "cell_type": "code",
   "execution_count": 42,
   "id": "14a56bff",
   "metadata": {},
   "outputs": [
    {
     "data": {
      "text/plain": [
       "0.07697"
      ]
     },
     "execution_count": 42,
     "metadata": {},
     "output_type": "execute_result"
    }
   ],
   "source": [
    "np.sqrt(mean_squared_log_error(y_test,dty_pred))"
   ]
  },
  {
   "cell_type": "code",
   "execution_count": 43,
   "id": "8ecf0ba0",
   "metadata": {},
   "outputs": [
    {
     "name": "stdout",
     "output_type": "stream",
     "text": [
      "              precision    recall  f1-score   support\n",
      "\n",
      "           1       0.95      0.95      0.95       502\n",
      "           2       0.99      0.99      0.99      1750\n",
      "           3       1.00      1.00      1.00      5697\n",
      "           4       0.69      0.69      0.69        88\n",
      "           5       1.00      1.00      1.00       231\n",
      "\n",
      "    accuracy                           0.99      8268\n",
      "   macro avg       0.92      0.92      0.92      8268\n",
      "weighted avg       0.99      0.99      0.99      8268\n",
      "\n"
     ]
    }
   ],
   "source": [
    "print(classification_report(y_test,dty_pred))"
   ]
  },
  {
   "cell_type": "markdown",
   "id": "90abdb4e",
   "metadata": {},
   "source": [
    "#### KNN Classifier"
   ]
  },
  {
   "cell_type": "code",
   "execution_count": 44,
   "id": "72cce22a",
   "metadata": {},
   "outputs": [
    {
     "data": {
      "text/html": [
       "<style>#sk-container-id-2 {color: black;background-color: white;}#sk-container-id-2 pre{padding: 0;}#sk-container-id-2 div.sk-toggleable {background-color: white;}#sk-container-id-2 label.sk-toggleable__label {cursor: pointer;display: block;width: 100%;margin-bottom: 0;padding: 0.3em;box-sizing: border-box;text-align: center;}#sk-container-id-2 label.sk-toggleable__label-arrow:before {content: \"▸\";float: left;margin-right: 0.25em;color: #696969;}#sk-container-id-2 label.sk-toggleable__label-arrow:hover:before {color: black;}#sk-container-id-2 div.sk-estimator:hover label.sk-toggleable__label-arrow:before {color: black;}#sk-container-id-2 div.sk-toggleable__content {max-height: 0;max-width: 0;overflow: hidden;text-align: left;background-color: #f0f8ff;}#sk-container-id-2 div.sk-toggleable__content pre {margin: 0.2em;color: black;border-radius: 0.25em;background-color: #f0f8ff;}#sk-container-id-2 input.sk-toggleable__control:checked~div.sk-toggleable__content {max-height: 200px;max-width: 100%;overflow: auto;}#sk-container-id-2 input.sk-toggleable__control:checked~label.sk-toggleable__label-arrow:before {content: \"▾\";}#sk-container-id-2 div.sk-estimator input.sk-toggleable__control:checked~label.sk-toggleable__label {background-color: #d4ebff;}#sk-container-id-2 div.sk-label input.sk-toggleable__control:checked~label.sk-toggleable__label {background-color: #d4ebff;}#sk-container-id-2 input.sk-hidden--visually {border: 0;clip: rect(1px 1px 1px 1px);clip: rect(1px, 1px, 1px, 1px);height: 1px;margin: -1px;overflow: hidden;padding: 0;position: absolute;width: 1px;}#sk-container-id-2 div.sk-estimator {font-family: monospace;background-color: #f0f8ff;border: 1px dotted black;border-radius: 0.25em;box-sizing: border-box;margin-bottom: 0.5em;}#sk-container-id-2 div.sk-estimator:hover {background-color: #d4ebff;}#sk-container-id-2 div.sk-parallel-item::after {content: \"\";width: 100%;border-bottom: 1px solid gray;flex-grow: 1;}#sk-container-id-2 div.sk-label:hover label.sk-toggleable__label {background-color: #d4ebff;}#sk-container-id-2 div.sk-serial::before {content: \"\";position: absolute;border-left: 1px solid gray;box-sizing: border-box;top: 0;bottom: 0;left: 50%;z-index: 0;}#sk-container-id-2 div.sk-serial {display: flex;flex-direction: column;align-items: center;background-color: white;padding-right: 0.2em;padding-left: 0.2em;position: relative;}#sk-container-id-2 div.sk-item {position: relative;z-index: 1;}#sk-container-id-2 div.sk-parallel {display: flex;align-items: stretch;justify-content: center;background-color: white;position: relative;}#sk-container-id-2 div.sk-item::before, #sk-container-id-2 div.sk-parallel-item::before {content: \"\";position: absolute;border-left: 1px solid gray;box-sizing: border-box;top: 0;bottom: 0;left: 50%;z-index: -1;}#sk-container-id-2 div.sk-parallel-item {display: flex;flex-direction: column;z-index: 1;position: relative;background-color: white;}#sk-container-id-2 div.sk-parallel-item:first-child::after {align-self: flex-end;width: 50%;}#sk-container-id-2 div.sk-parallel-item:last-child::after {align-self: flex-start;width: 50%;}#sk-container-id-2 div.sk-parallel-item:only-child::after {width: 0;}#sk-container-id-2 div.sk-dashed-wrapped {border: 1px dashed gray;margin: 0 0.4em 0.5em 0.4em;box-sizing: border-box;padding-bottom: 0.4em;background-color: white;}#sk-container-id-2 div.sk-label label {font-family: monospace;font-weight: bold;display: inline-block;line-height: 1.2em;}#sk-container-id-2 div.sk-label-container {text-align: center;}#sk-container-id-2 div.sk-container {/* jupyter's `normalize.less` sets `[hidden] { display: none; }` but bootstrap.min.css set `[hidden] { display: none !important; }` so we also need the `!important` here to be able to override the default hidden behavior on the sphinx rendered scikit-learn.org. See: https://github.com/scikit-learn/scikit-learn/issues/21755 */display: inline-block !important;position: relative;}#sk-container-id-2 div.sk-text-repr-fallback {display: none;}</style><div id=\"sk-container-id-2\" class=\"sk-top-container\"><div class=\"sk-text-repr-fallback\"><pre>KNeighborsClassifier()</pre><b>In a Jupyter environment, please rerun this cell to show the HTML representation or trust the notebook. <br />On GitHub, the HTML representation is unable to render, please try loading this page with nbviewer.org.</b></div><div class=\"sk-container\" hidden><div class=\"sk-item\"><div class=\"sk-estimator sk-toggleable\"><input class=\"sk-toggleable__control sk-hidden--visually\" id=\"sk-estimator-id-2\" type=\"checkbox\" checked><label for=\"sk-estimator-id-2\" class=\"sk-toggleable__label sk-toggleable__label-arrow\">KNeighborsClassifier</label><div class=\"sk-toggleable__content\"><pre>KNeighborsClassifier()</pre></div></div></div></div></div>"
      ],
      "text/plain": [
       "KNeighborsClassifier()"
      ]
     },
     "execution_count": 44,
     "metadata": {},
     "output_type": "execute_result"
    }
   ],
   "source": [
    "knc = KNeighborsClassifier()\n",
    "knc.fit(X_train, y_train)"
   ]
  },
  {
   "cell_type": "code",
   "execution_count": 45,
   "id": "ac3adefc",
   "metadata": {},
   "outputs": [
    {
     "data": {
      "text/plain": [
       "0.7547169811320755"
      ]
     },
     "execution_count": 45,
     "metadata": {},
     "output_type": "execute_result"
    }
   ],
   "source": [
    "knc.score(X_test,y_test)"
   ]
  },
  {
   "cell_type": "code",
   "execution_count": 109,
   "id": "4a40722d",
   "metadata": {},
   "outputs": [
    {
     "data": {
      "image/png": "[encoded data removed]",
      "text/plain": [
       "<Figure size 500x300 with 1 Axes>"
      ]
     },
     "metadata": {},
     "output_type": "display_data"
    }
   ],
   "source": [
    "kny_pred = knc.predict(X_test)\n",
    "plot_confusion_matrix(confusion_matrix(y_test,kny_pred),figsize=(5,3));"
   ]
  },
  {
   "cell_type": "code",
   "execution_count": 47,
   "id": "2a285404",
   "metadata": {},
   "outputs": [
    {
     "data": {
      "text/plain": [
       "0.07697"
      ]
     },
     "execution_count": 47,
     "metadata": {},
     "output_type": "execute_result"
    }
   ],
   "source": [
    "np.sqrt(mean_squared_log_error(y_test,dty_pred))"
   ]
  },
  {
   "cell_type": "code",
   "execution_count": 48,
   "id": "34255d86",
   "metadata": {},
   "outputs": [
    {
     "name": "stdout",
     "output_type": "stream",
     "text": [
      "              precision    recall  f1-score   support\n",
      "\n",
      "           1       0.95      0.95      0.95       502\n",
      "           2       0.99      0.99      0.99      1750\n",
      "           3       1.00      1.00      1.00      5697\n",
      "           4       0.69      0.69      0.69        88\n",
      "           5       1.00      1.00      1.00       231\n",
      "\n",
      "    accuracy                           0.99      8268\n",
      "   macro avg       0.92      0.92      0.92      8268\n",
      "weighted avg       0.99      0.99      0.99      8268\n",
      "\n"
     ]
    }
   ],
   "source": [
    "print(classification_report(y_test,dty_pred))"
   ]
  },
  {
   "cell_type": "markdown",
   "id": "88105fa0",
   "metadata": {},
   "source": [
    "#### Naive Bayes Classifier"
   ]
  },
  {
   "cell_type": "code",
   "execution_count": 49,
   "id": "43c35ed7",
   "metadata": {},
   "outputs": [
    {
     "data": {
      "text/html": [
       "<style>#sk-container-id-3 {color: black;background-color: white;}#sk-container-id-3 pre{padding: 0;}#sk-container-id-3 div.sk-toggleable {background-color: white;}#sk-container-id-3 label.sk-toggleable__label {cursor: pointer;display: block;width: 100%;margin-bottom: 0;padding: 0.3em;box-sizing: border-box;text-align: center;}#sk-container-id-3 label.sk-toggleable__label-arrow:before {content: \"▸\";float: left;margin-right: 0.25em;color: #696969;}#sk-container-id-3 label.sk-toggleable__label-arrow:hover:before {color: black;}#sk-container-id-3 div.sk-estimator:hover label.sk-toggleable__label-arrow:before {color: black;}#sk-container-id-3 div.sk-toggleable__content {max-height: 0;max-width: 0;overflow: hidden;text-align: left;background-color: #f0f8ff;}#sk-container-id-3 div.sk-toggleable__content pre {margin: 0.2em;color: black;border-radius: 0.25em;background-color: #f0f8ff;}#sk-container-id-3 input.sk-toggleable__control:checked~div.sk-toggleable__content {max-height: 200px;max-width: 100%;overflow: auto;}#sk-container-id-3 input.sk-toggleable__control:checked~label.sk-toggleable__label-arrow:before {content: \"▾\";}#sk-container-id-3 div.sk-estimator input.sk-toggleable__control:checked~label.sk-toggleable__label {background-color: #d4ebff;}#sk-container-id-3 div.sk-label input.sk-toggleable__control:checked~label.sk-toggleable__label {background-color: #d4ebff;}#sk-container-id-3 input.sk-hidden--visually {border: 0;clip: rect(1px 1px 1px 1px);clip: rect(1px, 1px, 1px, 1px);height: 1px;margin: -1px;overflow: hidden;padding: 0;position: absolute;width: 1px;}#sk-container-id-3 div.sk-estimator {font-family: monospace;background-color: #f0f8ff;border: 1px dotted black;border-radius: 0.25em;box-sizing: border-box;margin-bottom: 0.5em;}#sk-container-id-3 div.sk-estimator:hover {background-color: #d4ebff;}#sk-container-id-3 div.sk-parallel-item::after {content: \"\";width: 100%;border-bottom: 1px solid gray;flex-grow: 1;}#sk-container-id-3 div.sk-label:hover label.sk-toggleable__label {background-color: #d4ebff;}#sk-container-id-3 div.sk-serial::before {content: \"\";position: absolute;border-left: 1px solid gray;box-sizing: border-box;top: 0;bottom: 0;left: 50%;z-index: 0;}#sk-container-id-3 div.sk-serial {display: flex;flex-direction: column;align-items: center;background-color: white;padding-right: 0.2em;padding-left: 0.2em;position: relative;}#sk-container-id-3 div.sk-item {position: relative;z-index: 1;}#sk-container-id-3 div.sk-parallel {display: flex;align-items: stretch;justify-content: center;background-color: white;position: relative;}#sk-container-id-3 div.sk-item::before, #sk-container-id-3 div.sk-parallel-item::before {content: \"\";position: absolute;border-left: 1px solid gray;box-sizing: border-box;top: 0;bottom: 0;left: 50%;z-index: -1;}#sk-container-id-3 div.sk-parallel-item {display: flex;flex-direction: column;z-index: 1;position: relative;background-color: white;}#sk-container-id-3 div.sk-parallel-item:first-child::after {align-self: flex-end;width: 50%;}#sk-container-id-3 div.sk-parallel-item:last-child::after {align-self: flex-start;width: 50%;}#sk-container-id-3 div.sk-parallel-item:only-child::after {width: 0;}#sk-container-id-3 div.sk-dashed-wrapped {border: 1px dashed gray;margin: 0 0.4em 0.5em 0.4em;box-sizing: border-box;padding-bottom: 0.4em;background-color: white;}#sk-container-id-3 div.sk-label label {font-family: monospace;font-weight: bold;display: inline-block;line-height: 1.2em;}#sk-container-id-3 div.sk-label-container {text-align: center;}#sk-container-id-3 div.sk-container {/* jupyter's `normalize.less` sets `[hidden] { display: none; }` but bootstrap.min.css set `[hidden] { display: none !important; }` so we also need the `!important` here to be able to override the default hidden behavior on the sphinx rendered scikit-learn.org. See: https://github.com/scikit-learn/scikit-learn/issues/21755 */display: inline-block !important;position: relative;}#sk-container-id-3 div.sk-text-repr-fallback {display: none;}</style><div id=\"sk-container-id-3\" class=\"sk-top-container\"><div class=\"sk-text-repr-fallback\"><pre>GaussianNB()</pre><b>In a Jupyter environment, please rerun this cell to show the HTML representation or trust the notebook. <br />On GitHub, the HTML representation is unable to render, please try loading this page with nbviewer.org.</b></div><div class=\"sk-container\" hidden><div class=\"sk-item\"><div class=\"sk-estimator sk-toggleable\"><input class=\"sk-toggleable__control sk-hidden--visually\" id=\"sk-estimator-id-3\" type=\"checkbox\" checked><label for=\"sk-estimator-id-3\" class=\"sk-toggleable__label sk-toggleable__label-arrow\">GaussianNB</label><div class=\"sk-toggleable__content\"><pre>GaussianNB()</pre></div></div></div></div></div>"
      ],
      "text/plain": [
       "GaussianNB()"
      ]
     },
     "execution_count": 49,
     "metadata": {},
     "output_type": "execute_result"
    }
   ],
   "source": [
    "gnb = GaussianNB()\n",
    "gnb.fit(X_train,y_train)"
   ]
  },
  {
   "cell_type": "code",
   "execution_count": 50,
   "id": "9fe14228",
   "metadata": {},
   "outputs": [
    {
     "data": {
      "text/plain": [
       "0.9039671020803096"
      ]
     },
     "execution_count": 50,
     "metadata": {},
     "output_type": "execute_result"
    }
   ],
   "source": [
    "gnb.score(X_test,y_test)"
   ]
  },
  {
   "cell_type": "code",
   "execution_count": 110,
   "id": "d3899b5d",
   "metadata": {},
   "outputs": [
    {
     "data": {
      "image/png": "[encoded data removed]",
      "text/plain": [
       "<Figure size 500x300 with 1 Axes>"
      ]
     },
     "metadata": {},
     "output_type": "display_data"
    }
   ],
   "source": [
    "gny_pred = gnb.predict(X_test)\n",
    "plot_confusion_matrix(confusion_matrix(y_test,gny_pred),figsize=(5,3));"
   ]
  },
  {
   "cell_type": "code",
   "execution_count": 52,
   "id": "8976cc77",
   "metadata": {},
   "outputs": [
    {
     "data": {
      "text/plain": [
       "0.07697"
      ]
     },
     "execution_count": 52,
     "metadata": {},
     "output_type": "execute_result"
    }
   ],
   "source": [
    "np.sqrt(mean_squared_log_error(y_test,dty_pred))"
   ]
  },
  {
   "cell_type": "code",
   "execution_count": 53,
   "id": "2c5ee11c",
   "metadata": {},
   "outputs": [
    {
     "name": "stdout",
     "output_type": "stream",
     "text": [
      "              precision    recall  f1-score   support\n",
      "\n",
      "           1       0.90      0.96      0.93       502\n",
      "           2       0.90      0.98      0.94      1750\n",
      "           3       0.98      0.89      0.94      5697\n",
      "           4       0.51      0.41      0.46        88\n",
      "           5       0.26      0.66      0.38       231\n",
      "\n",
      "    accuracy                           0.90      8268\n",
      "   macro avg       0.71      0.78      0.73      8268\n",
      "weighted avg       0.94      0.90      0.92      8268\n",
      "\n"
     ]
    }
   ],
   "source": [
    "print(classification_report(y_test,gny_pred))"
   ]
  },
  {
   "cell_type": "markdown",
   "id": "2f2a6cfd",
   "metadata": {},
   "source": [
    "### Decision Tree classifier produces much desired result. We can fine tune the parameters for the decision tree model"
   ]
  },
  {
   "cell_type": "markdown",
   "id": "70f98670",
   "metadata": {},
   "source": [
    "## Building Ideal model with Decision Tree"
   ]
  },
  {
   "cell_type": "code",
   "execution_count": 119,
   "id": "568cd8cf",
   "metadata": {},
   "outputs": [
    {
     "name": "stdout",
     "output_type": "stream",
     "text": [
      "Best Parameters (Random Search): {'min_samples_split': 2, 'min_samples_leaf': 2, 'max_depth': 6, 'criterion': 'entropy'}\n",
      "Best Score (Random Search): 0.9920570974022367\n"
     ]
    }
   ],
   "source": [
    "# Defining parameter for tuning model\n",
    "param_dist = {\n",
    "    'criterion': ['gini', 'entropy'],\n",
    "    'max_depth': np.arange(1, 20),\n",
    "    'min_samples_split': np.arange(2, 20),\n",
    "    'min_samples_leaf': np.arange(1, 20)}\n",
    "\n",
    "# Using random search to identify best parameters\n",
    "dtcl = DecisionTreeClassifier(random_state=42)\n",
    "rscv = RandomizedSearchCV(dtcl, param_distributions=param_dist, \n",
    "                                   n_iter=100, cv=5, random_state=42)\n",
    "\n",
    "rscv.fit(X_train, y_train)\n",
    "\n",
    "bestparams = rscv.best_params_\n",
    "bestscore = rscv.best_score_\n",
    "\n",
    "print(f\"Best Parameters (Random Search): {bestparams}\")\n",
    "print(f\"Best Score (Random Search): {bestscore}\")"
   ]
  },
  {
   "cell_type": "code",
   "execution_count": 128,
   "id": "6eb8d90c",
   "metadata": {},
   "outputs": [
    {
     "data": {
      "image/png": "[encoded data removed]",
      "text/plain": [
       "<Figure size 500x300 with 1 Axes>"
      ]
     },
     "metadata": {},
     "output_type": "display_data"
    }
   ],
   "source": [
    "dtcm = DecisionTreeClassifier(min_samples_split= 2, min_samples_leaf= 2, max_depth= 6, \n",
    "                              criterion= 'entropy',random_state=42)\n",
    "dtcm.fit(X_train, y_train)\n",
    "dtcy_pred = dtcm.predict(X_test)\n",
    "plot_confusion_matrix(confusion_matrix(y_test,dtcy_pred),figsize=(5,3),\n",
    "                      class_names=['Chargedoff','Completed','Current','Defaulted','Delayed']);"
   ]
  },
  {
   "cell_type": "code",
   "execution_count": 125,
   "id": "1598b717",
   "metadata": {},
   "outputs": [
    {
     "name": "stdout",
     "output_type": "stream",
     "text": [
      "              precision    recall  f1-score   support\n",
      "\n",
      "           1       0.94      0.99      0.97       502\n",
      "           2       1.00      0.99      0.99      1750\n",
      "           3       1.00      1.00      1.00      5697\n",
      "           4       0.92      0.65      0.76        88\n",
      "           5       1.00      1.00      1.00       231\n",
      "\n",
      "    accuracy                           0.99      8268\n",
      "   macro avg       0.97      0.93      0.94      8268\n",
      "weighted avg       0.99      0.99      0.99      8268\n",
      "\n"
     ]
    }
   ],
   "source": [
    "print(classification_report(y_test,dtcy_pred))"
   ]
  },
  {
   "cell_type": "markdown",
   "id": "e0e2d2c1",
   "metadata": {},
   "source": [
    "### Decision tree model after fine tuning shows improved prediction in Current and Completed class. In overall it has F1 score of 0.99."
   ]
  },
  {
   "cell_type": "code",
   "execution_count": null,
   "id": "4a3b921c",
   "metadata": {},
   "outputs": [],
   "source": []
  }
 ],
 "metadata": {
  "kernelspec": {
   "display_name": "Python 3 (ipykernel)",
   "language": "python",
   "name": "python3"
  },
  "language_info": {
   "codemirror_mode": {
    "name": "ipython",
    "version": 3
   },
   "file_extension": ".py",
   "mimetype": "text/x-python",
   "name": "python",
   "nbconvert_exporter": "python",
   "pygments_lexer": "ipython3",
   "version": "3.8.10"
  }
 },
 "nbformat": 4,
 "nbformat_minor": 5
}
